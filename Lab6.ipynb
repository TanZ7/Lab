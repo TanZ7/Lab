{
  "nbformat": 4,
  "nbformat_minor": 0,
  "metadata": {
    "colab": {
      "provenance": [],
      "include_colab_link": true
    },
    "kernelspec": {
      "name": "python3",
      "display_name": "Python 3"
    },
    "language_info": {
      "name": "python"
    }
  },
  "cells": [
    {
      "cell_type": "markdown",
      "metadata": {
        "id": "view-in-github",
        "colab_type": "text"
      },
      "source": [
        "<a href=\"https://colab.research.google.com/github/TanZ7/Lab/blob/main/Lab6.ipynb\" target=\"_parent\"><img src=\"https://colab.research.google.com/assets/colab-badge.svg\" alt=\"Open In Colab\"/></a>"
      ]
    },
    {
      "cell_type": "markdown",
      "source": [
        "Ex. 6.1 ให้เขียนฟังก์ชันชื่อ test_ pangram เพื่อตรวจสอบว่า String ที่รับเข้ามาเป็น pangram หรือไม่ โดย pangram คือ string ที่ประกอบด้วยตัวอักษรทุกตัวในภาษาอังกฤษ (ต้องมีอักษรแต่ละตัวปรากฏอย่างน้อย 1 ครั้ง) เช่น\n",
        "The quick brown fox jumps over the lazy dog\n",
        "รับข้อมูลเป็น string และ return เป็น True หรือ False"
      ],
      "metadata": {
        "id": "g1jKRrPZdrD9"
      }
    },
    {
      "cell_type": "code",
      "execution_count": 2,
      "metadata": {
        "colab": {
          "base_uri": "https://localhost:8080/"
        },
        "id": "oc_mt8z2dluv",
        "outputId": "c351d467-6635-4c5d-f8eb-81b5295df8dc"
      },
      "outputs": [
        {
          "output_type": "execute_result",
          "data": {
            "text/plain": [
              "True"
            ]
          },
          "metadata": {},
          "execution_count": 2
        }
      ],
      "source": [
        "def test_pangram(str):\n",
        "  str = str.lower()\n",
        "  az = \"abcdefghijklmnopqrstuvwxyz\"\n",
        "  for letter in az:\n",
        "    if letter not in str:\n",
        "      return False\n",
        "  return True\n",
        "test_pangram(\"The quick brown fox jumps over the lazy dog\")\n"
      ]
    },
    {
      "cell_type": "markdown",
      "source": [
        "Ex 6.2 จงเขียน โปรแกรมที่รวมผลลัพธ์ ของตัวเลขที่อยู่ใน List โดยกำหนดให้ฟังก์ชัน ชื่อ find_sum(n_list,n) โดย n_list เป็น List ของตัวเลขที่มีความยาว n โดยให้เขียนในแบบ Recursion\n"
      ],
      "metadata": {
        "id": "jsFdK2rreKku"
      }
    },
    {
      "cell_type": "code",
      "source": [
        "def find_sum(n_list,n):\n",
        "  if n == 0:\n",
        "      return 0\n",
        "  else:\n",
        "      return n_list[n-1] + find_sum(n_list, n-1)\n",
        "\n",
        "find_sum([1,2,3,4,5,6,7,8,9,10],10)"
      ],
      "metadata": {
        "id": "SWhMgyAc0uSI",
        "outputId": "c5628baf-93b0-4151-cbe3-bb0ec3eadd28",
        "colab": {
          "base_uri": "https://localhost:8080/"
        }
      },
      "execution_count": 5,
      "outputs": [
        {
          "output_type": "execute_result",
          "data": {
            "text/plain": [
              "55"
            ]
          },
          "metadata": {},
          "execution_count": 5
        }
      ]
    },
    {
      "cell_type": "markdown",
      "source": [
        "Ex 6.3 กำหนดให้ List x เก็บ String และตัวแปร c เก็บตัวอักษร\n",
        "ให้สร้าง List d ที่เก็บจำนวนครั้งที่ตัวอักษรใน c ปรากฏในแต่ละ String ของ List x โดยใช้ List comprehension\n",
        "\n",
        "- เช่น x = [‘abba’, ‘babana’, ‘ann’]; c = ‘a’\n",
        "- จะได้ d = [2, 3, 1]\n",
        "\n",
        "ให้เขียนในฟังก์ชัน count_char_in_string(x,c) แล้ว return เป็น List คำตอบ"
      ],
      "metadata": {
        "id": "S9FRT-zz05-A"
      }
    },
    {
      "cell_type": "code",
      "source": [
        "def count_char_in_string(x,c):\n",
        "  result = []\n",
        "  for string in x:\n",
        "    result.append(string.count(c))\n",
        "  return result\n",
        "\n",
        "# count_char_in_string(['abba', 'babana', 'ann'],'a') => [2, 3, 1]\n",
        "# count_char_in_string(['apple', 'banana', 'cherry'],'a') => [1, 3, 1]\n",
        "# count_char_in_string(['dog', 'cat', 'fish'],'z') => [0, 0, 0]\n",
        "# count_char_in_string(['abc', 'bcb', 'cab'],'b') => [1, 2, 1]\n",
        "# count_char_in_string(['', 'a', ''],'a') => [0, 1, 0]\n",
        "# count_char_in_string(['@home', '#hash', 'space '],'#') => [0, 1, 0]\n",
        "\n",
        "print(count_char_in_string(['abba', 'babana', 'ann'],'a'))\n",
        "print(count_char_in_string(['apple', 'banana', 'cherry'],'a'))\n",
        "print(count_char_in_string(['dog', 'cat', 'fish'],'z'))\n",
        "print(count_char_in_string(['abc', 'bcb', 'cab'],'b'))\n",
        "print(count_char_in_string(['', 'a', ''],'a'))\n",
        "print(count_char_in_string(['@home', '#hash', 'space '],'#'))"
      ],
      "metadata": {
        "id": "yQZQFVa01JPs",
        "outputId": "a4f4bd0c-7dad-41e0-b21c-cd165b59bbbf",
        "colab": {
          "base_uri": "https://localhost:8080/"
        }
      },
      "execution_count": 8,
      "outputs": [
        {
          "output_type": "stream",
          "name": "stdout",
          "text": [
            "[2, 3, 1]\n",
            "[1, 3, 0]\n",
            "[0, 0, 0]\n",
            "[1, 2, 1]\n",
            "[0, 1, 0]\n",
            "[0, 1, 0]\n"
          ]
        }
      ]
    },
    {
      "cell_type": "markdown",
      "source": [
        "Ex 6.4  กำหนดให้ List x เป็น List ของจำนวนเต็ม\n",
        "ให้เขียนโปรแกรมเพื่อลบจำนวนเต็มทุกตัวใน x ที่มีค่าเป็นลบ โดยใช้ List comprehension\n",
        "\n",
        "- เช่น x = [ [1, -3, 2], [-8, 5], [-1, -4, -3] ]\n",
        "- ได้คำตอบเป็น [ [1, 2], [5], [] ]\n",
        "\n",
        "ให้เขียนในฟังก์ชัน delete_minus(x) แล้ว return เป็น List คำตอบ\n",
        "Hint : ถ้าคิดไม่ออกให้ทดลองเขียนแบบปกติก่อน แล้วค่อยลดรูป\n"
      ],
      "metadata": {
        "id": "vRtEJLkP5MLT"
      }
    },
    {
      "cell_type": "code",
      "source": [
        "def delete_minus(x):\n",
        "    result = []\n",
        "    for sublist in x:\n",
        "        new_sublist = []\n",
        "        for num in sublist:\n",
        "            if num >= 0:\n",
        "                new_sublist.append(num)\n",
        "        result.append(new_sublist)\n",
        "    return result\n",
        "\n",
        "print(delete_minus([[1, -3, 2], [-8, 5], [-1, -4, -3]]))\n",
        "print(delete_minus([[0, -1, -2], [3, 4, -5], [-6, 7]]))\n",
        "print(delete_minus([[10, -10, 20], [-30, 30], [40, -40]]))\n",
        "print(delete_minus([[1, 2, 3], [4, 5], [6]]))\n",
        "print(delete_minus([[-1, -2, -3], [-4, -5], [-6]]))\n",
        "print(delete_minus([[-10, -20, -30], [-40, -50], [-60]]))\n",
        "\n",
        "# delete_minus([[1, -3, 2], [-8, 5], [-1, -4, -3]]) => [[1, 2], [5], []]\n",
        "# delete_minus([[0, -1, -2], [3, 4, -5], [-6, 7]]) => [[0], [3, 4], [7]]\n",
        "# delete_minus([[10, -10, 20], [-30, 30], [40, -40]]) => [[10, 20], [30], [40]]\n",
        "# delete_minus([[1, 2, 3], [4, 5], [6]]) => [[1, 2, 3], [4, 5], [6]]\n",
        "# delete_minus([[-1, -2, -3], [-4, -5], [-6]]) => [[], [], []]\n",
        "# delete_minus([[-10, -20, -30], [-40, -50], [-60]]) => [[], [], []]"
      ],
      "metadata": {
        "id": "SDA5CALo5WPK",
        "outputId": "78e159ad-007c-4bc2-a383-a272a35cbe1d",
        "colab": {
          "base_uri": "https://localhost:8080/"
        }
      },
      "execution_count": 9,
      "outputs": [
        {
          "output_type": "stream",
          "name": "stdout",
          "text": [
            "[[1, 2], [5], []]\n",
            "[[0], [3, 4], [7]]\n",
            "[[10, 20], [30], [40]]\n",
            "[[1, 2, 3], [4, 5], [6]]\n",
            "[[], [], []]\n",
            "[[], [], []]\n"
          ]
        }
      ]
    },
    {
      "cell_type": "markdown",
      "source": [
        "Ex 6.5 ให้เขียนโปรแกรมเพื่อรับข้อมูล 1 บรรทัด ที่ประกอบด้วยจำนวนเต็มหลายจำนวน (คั่นด้วยช่องว่าง)\n",
        "ให้ส่งคืนว่ามีจำนวนที่เป็นลบกี่จำนวน โดยใช้ List comprehension\n",
        "ให้เขียนในฟังก์ชัน count_minus(str) แล้ว return เป็นคำตอบ"
      ],
      "metadata": {
        "id": "nLUpu-7v6MCa"
      }
    },
    {
      "cell_type": "code",
      "source": [
        "def count_minus(str):\n",
        "    return len([int(num) for num in str.split() if int(num) < 0])\n",
        "\n",
        "print(count_minus(\"1 2 -3 4 -5\"))\n",
        "print(count_minus(\"-1 -2 -3 -4 -5\"))\n",
        "print(count_minus(\"1 2 3 4 5\"))\n",
        "print(count_minus(\"0 0 0 0 0\"))\n",
        "print(count_minus(\"-10 -20 -30 -40 -50\"))\n",
        "\n",
        "\n",
        "# count_minus(\"1 2 -3 4 -5\") => 2\n",
        "# count_minus(\"-1 -2 -3 -4 -5\") => 5\n",
        "# count_minus(\"1 2 3 4 5\") => 0\n",
        "# count_minus(\"0 0 0 0 0\") => 0\n",
        "# count_minus(\"-10 -20 -30 -40 -50\") => 5"
      ],
      "metadata": {
        "id": "BO0JESLu9cVj",
        "outputId": "07108a48-f59d-451e-da23-0b97c4a68f26",
        "colab": {
          "base_uri": "https://localhost:8080/"
        }
      },
      "execution_count": 10,
      "outputs": [
        {
          "output_type": "stream",
          "name": "stdout",
          "text": [
            "2\n",
            "5\n",
            "0\n",
            "0\n",
            "5\n"
          ]
        }
      ]
    },
    {
      "cell_type": "markdown",
      "source": [
        "Ex 6.6 ให้เขียนโปรแกรมเพื่อรับ string 1 ตัว\n",
        "ให้ส่งคืนเฉพาะตัวอักษรที่เป็นภาษาอังกฤษ โดยใช้ List comprehension\n",
        "ให้เขียนในฟังก์ชัน only_english(string1) แล้ว return เป็นคำตอบเป็น string"
      ],
      "metadata": {
        "id": "18YUhkQ96Fiw"
      }
    },
    {
      "cell_type": "code",
      "source": [
        "def only_english(string1):\n",
        "    result = ''\n",
        "    for char in string1:\n",
        "        if 'A' <= char <= 'Z' or 'a' <= char <= 'z':\n",
        "            result += char\n",
        "    return result\n",
        "\n",
        "print(only_english(\"Hello, World!\"))\n",
        "print(only_english(\"This is a test.\"))\n",
        "print(only_english(\"12345\"))\n",
        "print(only_english(\"abcABC123\"))\n",
        "print(only_english(\"!@#$%^&*()\"))\n",
        "\n",
        "# only_english(\"Hello, World!\") => \"Hello World\"\n",
        "# only_english(\"This is a test.\") => \"This is a test\"\n",
        "# only_english(\"12345\") => \"\"\n",
        "# only_english(\"abcABC123\") => \"abcABC\"\n",
        "# only_english(\"!@#$%^&*()\") => \"\""
      ],
      "metadata": {
        "id": "QM_Vbz-k9shU",
        "outputId": "7db904f3-8c69-451f-c2db-6b2035065016",
        "colab": {
          "base_uri": "https://localhost:8080/"
        }
      },
      "execution_count": 11,
      "outputs": [
        {
          "output_type": "stream",
          "name": "stdout",
          "text": [
            "HelloWorld\n",
            "Thisisatest\n",
            "\n",
            "abcABC\n",
            "\n"
          ]
        }
      ]
    },
    {
      "cell_type": "markdown",
      "source": [
        "Ex 6.7 กำหนดให้ list x และ y เป็น list ของจำนวนเต็ม โดยมีขนาดเท่ากัน\n",
        "ให้ return list ที่เป็นผลบวกของ list x และ y โดยใช้ list comprehension\n",
        "เขียนให้ function ชื่อ add2list(lst1,lst2)\n",
        "\n",
        "\n"
      ],
      "metadata": {
        "id": "S5dKtu4o96b-"
      }
    },
    {
      "cell_type": "code",
      "source": [
        "def add2list(lst1,lst2):\n",
        "  result =  []\n",
        "  for i in range(len(lst1)):\n",
        "    result.append(lst1[i] + lst2[i])\n",
        "  return result\n",
        "\n",
        "print(add2list([1, 2, 3], [4, 5, 6]))\n",
        "print(add2list([-1, -2, -3], [1, 2, 3]))\n",
        "print(add2list([0, 0, 0], [10, 20, 30]))\n",
        "print(add2list([7, 8, 9], [3, 2, 1]))\n",
        "print(add2list([100, 200, 300], [400, 500, 600]))\n",
        "print(add2list([1, 2, 3, 4, 5], [6, 7, 8, 9, 10]))\n",
        "\n",
        "# add2list([1, 2, 3], [4, 5, 6]) => [5, 7, 9]\n",
        "# add2list([-1, -2, -3], [1, 2, 3]) => [0, 0, 0]\n",
        "# add2list([0, 0, 0], [10, 20, 30]) => [10, 20, 30]\n",
        "# add2list([7, 8, 9], [3, 2, 1]) => [10, 10, 10]\n",
        "# add2list([100, 200, 300], [400, 500, 600]) => [500, 700, 900]\n",
        "# add2list([1, 2, 3, 4, 5], [6, 7, 8, 9, 10]) => [7, 9, 11, 13, 15]\n"
      ],
      "metadata": {
        "id": "L18pzqF5-AtR",
        "outputId": "ea73484d-e787-41d9-f2ed-3ee708b0dd78",
        "colab": {
          "base_uri": "https://localhost:8080/"
        }
      },
      "execution_count": 12,
      "outputs": [
        {
          "output_type": "stream",
          "name": "stdout",
          "text": [
            "[5, 7, 9]\n",
            "[0, 0, 0]\n",
            "[10, 20, 30]\n",
            "[10, 10, 10]\n",
            "[500, 700, 900]\n",
            "[7, 9, 11, 13, 15]\n"
          ]
        }
      ]
    },
    {
      "cell_type": "markdown",
      "source": [
        "1.\tกำหนดให้ m เป็น list ของ list ของ Integer ให้แปลง m ให้เป็น list ของ integer โดยใช้ List Comprehension โดยให้เขียนเป็น ฟังก์ชัน ชื่อ flatten_list(lst) และ return เป็น list คำตอบ\n",
        "- Input : [ [1, 2, 3], [4, 5, 6] ]\n",
        "- Output : [1, 2, 3, 4, 5, 6]\n"
      ],
      "metadata": {
        "id": "5HpBdNsU-4SW"
      }
    },
    {
      "cell_type": "code",
      "source": [
        "def flatten_list(lst):\n",
        "    result = []\n",
        "    for num2 in lst:\n",
        "        for num1 in num2:\n",
        "            result.append(num1)\n",
        "    return result\n",
        "\n",
        "\n",
        "print(flatten_list([[1, 2, 3], [4, 5, 6]]))\n",
        "print(flatten_list([[7, 8], [9, 10], [11, 12]]))\n",
        "print(flatten_list([[0], [1], [2], [3]]))\n",
        "print(flatten_list([[1, 1, 1], [2, 2], [3]]))\n",
        "print(flatten_list([[5, 6, 7], [8], [9, 10]]))\n",
        "\n",
        "# flatten_list([[1, 2, 3], [4, 5, 6]]) => [1, 2, 3, 4, 5, 6]\n",
        "# flatten_list([[7, 8], [9, 10], [11, 12]]) => [7, 8, 9, 10, 11, 12]\n",
        "# flatten_list([[0], [1], [2], [3]]) => [0, 1, 2, 3]\n",
        "# flatten_list([[1, 1, 1], [2, 2], [3]]) => [1, 1, 1, 2, 2, 3]\n",
        "# flatten_list([[5, 6, 7], [8], [9, 10]]) => [5, 6, 7, 8, 9, 10]\n"
      ],
      "metadata": {
        "id": "nfKGEY7d--zX",
        "outputId": "17610067-b987-4b0a-eef3-6676a2aace17",
        "colab": {
          "base_uri": "https://localhost:8080/"
        }
      },
      "execution_count": 13,
      "outputs": [
        {
          "output_type": "stream",
          "name": "stdout",
          "text": [
            "[1, 2, 3, 4, 5, 6]\n",
            "[7, 8, 9, 10, 11, 12]\n",
            "[0, 1, 2, 3]\n",
            "[1, 1, 1, 2, 2, 3]\n",
            "[5, 6, 7, 8, 9, 10]\n"
          ]
        }
      ]
    },
    {
      "cell_type": "markdown",
      "source": [
        "2.\tกำหนดให้ s เป็น list ของ Integer ให้เขียนโปรแกรม ตัดตัวเลขที่ซ้ำกันใน list ให้เหลือเพียงตัวเลขเดียว โดยใช้ list comprehension (ห้ามใช้ set) โดยมีขั้นตอนดังนี้\n",
        "-\tเรียงลำดับข้อมูลใน list\n",
        "-\tสร้าง list ใหม่ โดยนำข้อมูลใน list ตัวที่ติดกันมาพิจารณาจากซ้ายไปขวา หากค่าไม่เท่ากันให้นำไปใส่ใน list ใหม่\n",
        "-\tนำตัวขวาสุด (ตัวสุดท้าย) เพิ่มเข้าไปใน list ใหม่ ก็จะได้ s ที่ไม่มีตัวซ้ำ\n",
        "-\tโดยให้เขียนเป็นฟังก์ชัน ชื่อ remove_duplicate(s)\n",
        "\n",
        "- Input : [1, 2, 3, 3, 4, 5, 6]\n",
        "- Output : [1, 2, 3, 4, 5, 6]\n",
        "\n",
        "ห้ามใช้ sort"
      ],
      "metadata": {
        "id": "_FXeyEnm_y8X"
      }
    },
    {
      "cell_type": "code",
      "source": [
        "def remove_duplicate(s):\n",
        "    for i in range(len(s)):\n",
        "        for j in range(0, len(s) - i - 1):\n",
        "            if s[j] > s[j + 1]:\n",
        "                s[j], s[j + 1] = s[j + 1], s[j]\n",
        "\n",
        "    result = [s[i] for i in range(len(s) - 1) if s[i] != s[i + 1]]\n",
        "\n",
        "    result.append(s[-1])\n",
        "\n",
        "    return result\n",
        "\n",
        "print(remove_duplicate([1, 2, 3, 3, 4, 5, 6]))\n",
        "print(remove_duplicate([5, 1, 3, 3, 2, 5, 1]))\n",
        "print(remove_duplicate([7, 7, 8, 8, 8, 9]))\n",
        "print(remove_duplicate([10, 10, 10, 10]))\n",
        "print(remove_duplicate([1, 2, 2, 3, 4, 4, 4, 5]))\n",
        "\n",
        "# remove_duplicate([1, 2, 3, 3, 4, 5, 6]) => [1, 2, 3, 4, 5, 6]\n",
        "# remove_duplicate([5, 1, 3, 3, 2, 5, 1]) => [1, 2, 3, 5]\n",
        "# remove_duplicate([7, 7, 8, 8, 8, 9]) => [7, 8, 9]\n",
        "# remove_duplicate([10, 10, 10, 10]) => [10]\n",
        "# remove_duplicate([1, 2, 2, 3, 4, 4, 4, 5]) => [1, 2, 3, 4, 5]\n"
      ],
      "metadata": {
        "id": "iH8ceRWJ_5wq",
        "outputId": "51680187-e56a-4d96-b568-6b9e5d2aecf2",
        "colab": {
          "base_uri": "https://localhost:8080/"
        }
      },
      "execution_count": 22,
      "outputs": [
        {
          "output_type": "stream",
          "name": "stdout",
          "text": [
            "[1, 2, 3, 4, 5, 6]\n",
            "[1, 2, 3, 5]\n",
            "[7, 8, 9]\n",
            "[10]\n",
            "[1, 2, 3, 4, 5]\n"
          ]
        }
      ]
    },
    {
      "cell_type": "markdown",
      "source": [
        "3.\tกำหนดให้มี 2 list คือ lst1 และ lst2 ให้ค้นหาสมาชิกที่มีในทั้ง 2 list โดยใช้ list comprehension\n",
        "(ห้ามใช้ set) โดยให้เขียนเป็นฟังก์ชันชื่อ common_member(lst1, lst2) โดย return เป็น list ที่มีสมาชิกทั้ง 2 list\n",
        "- Input : lst1 = [1, 2, 4, 5, 6] lst2 = [2, 3, 4]\n",
        "- Output : [2, 4]\n"
      ],
      "metadata": {
        "id": "f9smt54DAyYU"
      }
    },
    {
      "cell_type": "code",
      "source": [
        "def common_member(lst1, lst2):\n",
        "  result = []\n",
        "  for num in lst1:\n",
        "    if num in lst2:\n",
        "      result.append(num)\n",
        "  return result\n",
        "\n",
        "print(common_member([1, 2, 4, 5, 6], [2, 3, 4]))\n",
        "print(common_member([1, 2, 3, 4, 5], [6, 7, 8]))\n",
        "print(common_member([1, 2, 3, 4, 5], [1, 2, 3, 4, 5]))\n",
        "print(common_member([1, 2, 3, 4, 5], [5, 4, 3, 2, 1]))\n",
        "print(common_member([1, 2, 3, 4, 5], [6, 7, 8, 9, 10]))\n",
        "\n",
        "# common_member([1, 2, 4, 5, 6], [2, 3, 4]) => [2, 4]\n",
        "# common_member([1, 2, 3, 4, 5], [6, 7, 8]) => []\n",
        "# common_member([1, 2, 3, 4, 5], [1, 2, 3, 4, 5]) => [1, 2, 3, 4, 5]\n",
        "# common_member([1, 2, 3, 4, 5], [5, 4, 3, 2, 1]) => [1, 2, 3, 4, 5]\n",
        "# common_member([1, 2, 3, 4, 5], [6, 7, 8, 9, 10]) => []\n"
      ],
      "metadata": {
        "id": "3K2MCpiWA-tX",
        "outputId": "7390d87b-23b2-450a-a484-4de87103919b",
        "colab": {
          "base_uri": "https://localhost:8080/"
        }
      },
      "execution_count": 24,
      "outputs": [
        {
          "output_type": "stream",
          "name": "stdout",
          "text": [
            "[2, 4]\n",
            "[]\n",
            "[1, 2, 3, 4, 5]\n",
            "[1, 2, 3, 4, 5]\n",
            "[]\n"
          ]
        }
      ]
    },
    {
      "cell_type": "markdown",
      "source": [
        "4.\tกำหนดให้ s เป็น String ให้เขียนโปรแกรมโดยใช้ List comprehension โดยให้ตัดตัวอักษรภาษาอังกฤษที่เป็นสระ a, e, i, o, u ออกจากประโยคให้หมด เช่น\n",
        "\n",
        "- Input : “common_member” จะได้ Output เป็น “cmmn mmbr”\n",
        "\n"
      ],
      "metadata": {
        "id": "V71CdsnEBWu8"
      }
    },
    {
      "cell_type": "code",
      "source": [
        "def remove_vowels(s):\n",
        "    chars = []\n",
        "\n",
        "    for char in s:\n",
        "        if char not in 'aeiou':\n",
        "            chars.append(char)\n",
        "\n",
        "    result = \"\"\n",
        "    for char in chars:\n",
        "        result += char\n",
        "    return result\n",
        "\n",
        "print(remove_vowels(\"common_member\"))\n",
        "print(remove_vowels(\"hello world\"))\n",
        "print(remove_vowels(\"aeiou\"))\n",
        "print(remove_vowels(\"qwertyuiop\"))\n",
        "print(remove_vowels(\"abcdefghijklmnopqrstuvwxyz\"))\n",
        "\n",
        "# remove_vowels(\"common_member\") => \"cmmn mmbr\"\n",
        "# remove_vowels(\"hello world\") => \"hll wrld\"\n",
        "# remove_vowels(\"aeiou\") => \"\"\n",
        "# remove_vowels(\"qwertyuiop\") => \"qwert\n",
        "# remove_vowels(\"abcdefghijklmnopqrstuvwxyz\") => \"bcdfghjklmnp"
      ],
      "metadata": {
        "id": "UNjxlDMqBcSz",
        "outputId": "b15e24d5-2d8b-468f-af0d-ea599d46d6eb",
        "colab": {
          "base_uri": "https://localhost:8080/"
        }
      },
      "execution_count": 25,
      "outputs": [
        {
          "output_type": "stream",
          "name": "stdout",
          "text": [
            "cmmn_mmbr\n",
            "hll wrld\n",
            "\n",
            "qwrtyp\n",
            "bcdfghjklmnpqrstvwxyz\n"
          ]
        }
      ]
    },
    {
      "cell_type": "markdown",
      "source": [
        "5.\tให้เขียนโปรแกรมรับ list ของจำนวนเต็มชุดหนึ่ง โดย list นี้จะมีสมาชิกพิเศษอยู่ที่ตัวสุดท้าย ซึ่งจะมีค่าเป็นลบเสมอ (สมาชิกตัวอื่นเป็นบวกหรือลบก็ได้) ให้สร้าง list ใหม่ที่เกิดจากสมาชิกทุกตัว (ยกเว้นตัวสุดท้าย) ลบด้วยสมาชิกตัวสุดท้าย\n",
        "- Input : [1, 10, 2, -5]\n",
        "- Output: [-4, 5, -3]\n",
        "- Input : [100, 0, -1]\n",
        "- Output: [99, -1]\n",
        "- Input : [3, -3]\n",
        "\n"
      ],
      "metadata": {
        "id": "Zo07ebrTBjgA"
      }
    },
    {
      "cell_type": "code",
      "source": [
        "def remove_last_element(lst):\n",
        "    last = lst[-1]\n",
        "\n",
        "    result = []\n",
        "\n",
        "    for x in lst[:-1]:\n",
        "        result.append(x + last)\n",
        "\n",
        "    return result\n",
        "\n",
        "print(remove_last_element([1, 10, 2, -5]))\n",
        "print(remove_last_element([100, 0, -1]))\n",
        "print(remove_last_element([3, -3]))\n",
        "\n",
        "# remove_last_element([1, 10, 2, -5]) => [-4, 5, -3]\n",
        "# remove_last_element([100, 0, -1]) => [99, -1]\n",
        "# remove_last_element([3, -3]) => [0]\n",
        "\n"
      ],
      "metadata": {
        "id": "cSSMJX5fBi8-",
        "outputId": "36af2e65-bf88-4552-b8ef-32936ad3c359",
        "colab": {
          "base_uri": "https://localhost:8080/"
        }
      },
      "execution_count": 26,
      "outputs": [
        {
          "output_type": "stream",
          "name": "stdout",
          "text": [
            "[-4, 5, -3]\n",
            "[99, -1]\n",
            "[0]\n"
          ]
        }
      ]
    },
    {
      "cell_type": "markdown",
      "source": [
        "6.\tกำหนดให้ s เป็น String ให้เขียนโปรแกรมเพื่อหา คำ ที่มีความยาวน้อยกว่า 5 ตัวอักษร โดยใช้ list comprehension\n",
        "- Input : “A total of 16 playable characters!”\n",
        "- Output : “A total of 16”\n",
        "\n"
      ],
      "metadata": {
        "id": "kguZ7w78CP0W"
      }
    },
    {
      "cell_type": "code",
      "source": [
        "def find_short_words(s):\n",
        "    words = s.split()\n",
        "\n",
        "    short_words = [word for word in words if len(word) < 5]\n",
        "\n",
        "    result = ''\n",
        "    for word in short_words:\n",
        "        if result:\n",
        "            result += ' '\n",
        "        result += word\n",
        "\n",
        "    return result\n",
        "\n",
        "print(find_short_words(\"A total of 16 playable characters!\"))\n",
        "print(find_short_words(\"The quick brown fox jumps over the lazy dog\"))\n",
        "print(find_short_words(\"Python is a great programming language\"))\n",
        "print(find_short_words(\"Short words are kept short and long words are ignored\"))\n",
        "\n",
        "# find_short_words(\"A total of 16 playable characters!\") => \"A total of 16\"\n",
        "# find_short_words(\"The quick brown fox jumps over the lazy dog\") => \"The fox over the dog\"\n",
        "# find_short_words(\"Python is a great programming language\") => \"is a\"\n",
        "# find_short_words(\"Short words are kept short and long words are ignored\") => \"are kept and are\"\n"
      ],
      "metadata": {
        "id": "IN6wcH_WCVJv",
        "outputId": "7e33db32-b503-49dc-b2e9-30c6ae26de16",
        "colab": {
          "base_uri": "https://localhost:8080/"
        }
      },
      "execution_count": 27,
      "outputs": [
        {
          "output_type": "stream",
          "name": "stdout",
          "text": [
            "A of 16\n",
            "The fox over the lazy dog\n",
            "is a\n",
            "are kept and long are\n"
          ]
        }
      ]
    },
    {
      "cell_type": "markdown",
      "source": [
        "7.\tให้เขียนโปรแกรมเพื่อคำนวณหา rank ของรหัสนักศึกษาที่กำหนด โดยให้เรียงตามคะแนน โดย rank = 1 คือ มีคะแนนสูงสุด โดยใช้ list comprehension\n",
        "กำหนดให้มีข้อมูล s_score มีตัวอย่างดังนี้\n",
        "\n",
        "s_score = [\t[‘65015001’, 87.25],\n",
        "\t\t[‘65015002’, 77.00],\n",
        "\t\t[‘65015003’, 82.50],\n",
        "\t\t[‘65015004’, 69.75],\n",
        "\t\t[‘65015005’, 66.00]  ]\n",
        "    \n",
        "ให้เขียนฟังก์ชัน find_rank( s_score, stu_id ) โดย s_score เป็น list ของคะแนน และ std_id เป็นรหัสนักศึกษาที่ต้องการหา rank\n",
        "เช่น find_rank ( s_score, ‘65015004’) จะ return 4 เพราะมีคะแนนเป็นอันดับ 4\n"
      ],
      "metadata": {
        "id": "yioC3udBDK3M"
      }
    },
    {
      "cell_type": "code",
      "source": [
        "def find_rank(s_score, stu_id):\n",
        "    posted = sorted(s_score, key=lambda x: x[1], reverse=True)\n",
        "    rank = 1\n",
        "    for i in range(len(posted)):\n",
        "        if posted[i][0] == stu_id:\n",
        "            rank = i + 1\n",
        "            break\n",
        "    return rank\n",
        "\n",
        "# Test Case 1\n",
        "s_score = [['65015001', 87.25], ['65015002', 77.00], ['65015003', 82.50], ['65015004', 69.75], ['65015005', 66.00]]\n",
        "print(find_rank(s_score, '65015004'))  # Output: 4\n",
        "\n",
        "# Test Case 2\n",
        "s_score = [['65015001', 90.00], ['65015002', 80.00], ['65015003', 85.00], ['65015004', 70.00], ['65015005', 60.00]]\n",
        "print(find_rank(s_score, '65015002'))  # Output: 2\n",
        "\n",
        "# Test Case 3\n",
        "s_score = [['65015001', 95.00], ['65015002', 95.00], ['65015003', 90.00], ['65015004', 85.00], ['65015005', 80.00]]\n",
        "print(find_rank(s_score, '65015001'))  # Output: 1\n",
        "\n",
        "# Test Case 4\n",
        "s_score = [['65015001', 50.00], ['65015002', 60.00], ['65015003', 70.00], ['65015004', 80.00], ['65015005', 90.00]]\n",
        "print(find_rank(s_score, '65015005'))  # Output: 1\n",
        "\n",
        "# Test Case 5\n",
        "s_score = [['65015001', 55.00], ['65015002', 65.00], ['65015003', 75.00], ['65015004', 85.00], ['65015005', 95.00]]\n",
        "print(find_rank(s_score, '65015003'))  # Output: 3\n"
      ],
      "metadata": {
        "id": "72EkAIBjDTO_",
        "outputId": "32ca7f31-762f-4f25-f8e1-c6a21ac910a8",
        "colab": {
          "base_uri": "https://localhost:8080/"
        }
      },
      "execution_count": 35,
      "outputs": [
        {
          "output_type": "stream",
          "name": "stdout",
          "text": [
            "4\n",
            "3\n",
            "1\n",
            "1\n",
            "3\n"
          ]
        }
      ]
    },
    {
      "cell_type": "markdown",
      "source": [
        "8.\tให้เขียนโปรแกรม เพื่อหาข้อมูลที่มีความถี่มากกว่าครึ่งหนึ่งของจำนวนข้อมูลที่รับเข้ามา แต่ถ้าไม่พบให้แสดง Not found โดยใช้ list comprehension\n",
        "\n",
        "- เช่น \t[4, 5, 5, 10] ได้ผลลัพธ์เป็น Not found\n",
        "-\t[4, 5, 5] ได้ผลลัพธ์เป็น 5\n",
        "-\t[10, 5, 5, 3, 5] ได้ผลลัพธ์เป็น 5\n",
        "-\t[2, 4, 2, 4, 2, 4] ได้ผลลัพธ์เป็น Not found\n",
        "\n",
        "ให้เขียนเป็นฟังก์ชัน ชื่อ more_than_half(n_list) โดย n_list เป็นข้อมูลนำเข้า และ return เป็นผลลัพธ์ หรือ Not found\n"
      ],
      "metadata": {
        "id": "oJGkdpmfEH2e"
      }
    },
    {
      "cell_type": "code",
      "source": [
        "def more_than_half(n_list):\n",
        "    count = {}\n",
        "    for num in n_list:\n",
        "        if num in count:\n",
        "            count[num] += 1\n",
        "        else:\n",
        "            count[num] = 1\n",
        "\n",
        "    for num, frequency in count.items():\n",
        "        if frequency > len(n_list) / 2:\n",
        "            return num\n",
        "    return \"Not found\"\n",
        "\n",
        "print(more_than_half([4, 5, 5, 10])) # => \"Not found\"\n",
        "print(more_than_half([4, 5, 5])) # => 5\n",
        "print(more_than_half([10, 5, 5, 3, 5])) # => 5\n",
        "print(more_than_half([2, 4, 2, 4, 2, 4])) # => \"Not found\"\n"
      ],
      "metadata": {
        "id": "ahXL6sfbEQUQ",
        "outputId": "c8b6962e-89f5-4dc2-a545-7c678f44f52d",
        "colab": {
          "base_uri": "https://localhost:8080/"
        }
      },
      "execution_count": 42,
      "outputs": [
        {
          "output_type": "stream",
          "name": "stdout",
          "text": [
            "Not found\n",
            "5\n",
            "5\n",
            "Not found\n"
          ]
        }
      ]
    },
    {
      "cell_type": "markdown",
      "source": [
        "9.\tจงเขียนโปรแกรมในแบบ recursion เพื่อกลับ String เช่น\n",
        "- Input : 'desserts'\n",
        "- Output : 'stressed'\n"
      ],
      "metadata": {
        "id": "0oTFJs2PEkL5"
      }
    },
    {
      "cell_type": "code",
      "source": [
        "def reverse_string(s):\n",
        "    if len(s) <= 1:\n",
        "        return s\n",
        "    return reverse_string(s[1:]) + s[0]\n",
        "\n",
        "print(reverse_string('desserts'))"
      ],
      "metadata": {
        "id": "_h5KwR9WEo7e",
        "outputId": "41b3c6be-b9e3-4fbc-c916-895177d86df1",
        "colab": {
          "base_uri": "https://localhost:8080/"
        }
      },
      "execution_count": 28,
      "outputs": [
        {
          "output_type": "stream",
          "name": "stdout",
          "text": [
            "stressed\n"
          ]
        }
      ]
    }
  ]
}