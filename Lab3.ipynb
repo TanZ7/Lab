{
  "nbformat": 4,
  "nbformat_minor": 0,
  "metadata": {
    "colab": {
      "provenance": [],
      "include_colab_link": true
    },
    "kernelspec": {
      "name": "python3",
      "display_name": "Python 3"
    },
    "language_info": {
      "name": "python"
    }
  },
  "cells": [
    {
      "cell_type": "markdown",
      "metadata": {
        "id": "view-in-github",
        "colab_type": "text"
      },
      "source": [
        "<a href=\"https://colab.research.google.com/github/TanZ7/Lab3/blob/main/Lab3.ipynb\" target=\"_parent\"><img src=\"https://colab.research.google.com/assets/colab-badge.svg\" alt=\"Open In Colab\"/></a>"
      ]
    },
    {
      "cell_type": "markdown",
      "source": [
        "# Exercise 3\n",
        "\n",
        "3.1 จากข้อมูลใน List ให้หาผลบวกเฉพาะตัวเลขคู่ โดยใช้ While Loop\n",
        "\n",
        "list1 = [1, 2, 3, 4, 5, 6, 7, 8, 9, 11, 13]\n",
        "\n"
      ],
      "metadata": {
        "id": "8LZVzcOUVMor"
      }
    },
    {
      "cell_type": "code",
      "execution_count": 47,
      "metadata": {
        "id": "2cTrxjMXUE2n",
        "outputId": "922c71eb-cbf3-4adb-8121-3ac284f0885f",
        "colab": {
          "base_uri": "https://localhost:8080/"
        }
      },
      "outputs": [
        {
          "output_type": "stream",
          "name": "stdout",
          "text": [
            "20\n"
          ]
        }
      ],
      "source": [
        "list1 = [1, 2, 3, 4, 5, 6, 7, 8, 9, 11, 13]\n",
        "sum = 0\n",
        "for i in list1:\n",
        "  if i%2==0:\n",
        "    sum+=i\n",
        "print(sum)"
      ]
    },
    {
      "cell_type": "markdown",
      "source": [
        "3.2 จากข้อมูลใน List ให้หาตัวเลขที่มีค่ามากที่สุดเป็นอันดับ 2 ใน List โดยใช้ While Loop\n",
        "\n",
        "list = [-5, 7, 10, 1, 2, 5, 8, 100]\n"
      ],
      "metadata": {
        "id": "uPvbrsO_Vimb"
      }
    },
    {
      "cell_type": "code",
      "source": [
        "list = [-5, 7, 10, 1, 2, 5, 8, 100]\n",
        "max1 = list[0]\n",
        "max2 = list[0]\n",
        "\n",
        "while i in range(len(list)):\n",
        "  for j in range(i+1,len(list)):\n",
        "    if list[i] > list[j]:\n",
        "      max1 = list[i]\n",
        "print(max1)"
      ],
      "metadata": {
        "id": "iUeJ91zfVr1Z",
        "outputId": "85af62ba-9d1f-42a1-fb49-eb4016dc1cdc",
        "colab": {
          "base_uri": "https://localhost:8080/"
        }
      },
      "execution_count": 46,
      "outputs": [
        {
          "output_type": "stream",
          "name": "stdout",
          "text": [
            "-5\n"
          ]
        }
      ]
    },
    {
      "cell_type": "markdown",
      "source": [
        "3.3 เขียนโปรแกรมรับค่า n แล้วคำนวณค่าต่อไปนี้\n",
        "\n",
        "$1/1^2 + 1/2^2 + 1/3^2 + 1/4^2 + 1/5^2 + … +  1/n^2$\n"
      ],
      "metadata": {
        "id": "udBZzWe9VsU7"
      }
    },
    {
      "cell_type": "code",
      "source": [
        "n = int(input(\"Enter Value n: \"))\n",
        "\n",
        "total_sum = 0.0\n",
        "\n",
        "for i in range(1, n + 1):\n",
        "    total_sum += 1 / (i ** 2)\n",
        "\n",
        "result = total_sum\n",
        "\n",
        "print(f\"ผลรวมของ 1/1^2 + 1/2^2 + 1/3^2 + ... + 1/{n}^2 คือ {result}\")"
      ],
      "metadata": {
        "id": "xtBw7zuxWEZ4",
        "outputId": "5fd80d9a-3262-4f2e-eb94-c0c6f0190d07",
        "colab": {
          "base_uri": "https://localhost:8080/"
        }
      },
      "execution_count": 45,
      "outputs": [
        {
          "output_type": "stream",
          "name": "stdout",
          "text": [
            "Enter Value n: 10\n",
            "ผลรวมของ 1/1^2 + 1/2^2 + 1/3^2 + ... + 1/10^2 คือ 1.5497677311665408\n"
          ]
        }
      ]
    },
    {
      "cell_type": "markdown",
      "source": [
        "3.4 จากข้อมูลใน List ให้ตรวจสอบว่า ข้อมูลในลิสต์ s เรียงลำดับจากน้อยไปมากหรือไม่ ตอบเป็น True, False\n",
        "\n",
        "\t[1,2,3,4,5], [5,4,3,2,1]\n"
      ],
      "metadata": {
        "id": "o-6AnE5zWFJJ"
      }
    },
    {
      "cell_type": "code",
      "source": [
        "list1 = [1, 2, 3, 4, 5]\n",
        "list2 = [5, 4, 3, 2, 1]\n",
        "\n",
        "is_sorted = True\n",
        "for i in range(len(list1) - 1):\n",
        "    if list1[i] > list1[i + 1]:\n",
        "        is_sorted = False\n",
        "        break\n",
        "\n",
        "print(f\"list1: {is_sorted}\")\n",
        "\n",
        "is_sorted = True\n",
        "for i in range(len(list2) - 1):\n",
        "    if list2[i] > list2[i + 1]:\n",
        "        is_sorted = False\n",
        "        break\n",
        "\n",
        "print(f\"list2: {is_sorted}\")"
      ],
      "metadata": {
        "id": "LYG2sGGgWNei",
        "outputId": "9c63282a-2c94-45ea-8117-953a9d9ec5dd",
        "colab": {
          "base_uri": "https://localhost:8080/"
        }
      },
      "execution_count": 43,
      "outputs": [
        {
          "output_type": "stream",
          "name": "stdout",
          "text": [
            "list1: True\n",
            "list2: False\n"
          ]
        }
      ]
    },
    {
      "cell_type": "markdown",
      "source": [
        "3.5  ให้ x เป็นลิสต์เก็บคะแนน ต้องการปรับช่องที่มีค่าน้อยกว่า 30 ให้มีค่าเพิ่มอีก 10% แสดงผลลัพธ์ เป็น List\n",
        "\n",
        "\tx = [60, 70, 72, 65, 55, 43, 20, 90, 12]\n"
      ],
      "metadata": {
        "id": "Hv-fE32hWOBd"
      }
    },
    {
      "cell_type": "code",
      "source": [
        "x = [60, 70, 72, 65, 55, 43, 20, 90, 12]\n",
        "\n",
        "for i in range(len(x)):\n",
        "    if x[i] < 30:\n",
        "        x[i] += x[i]*(10/100)\n",
        "\n",
        "print(x)"
      ],
      "metadata": {
        "id": "BSFOJ_8GWTtL",
        "outputId": "7dc6ab32-4e27-4997-8bb3-af9d38f3219e",
        "colab": {
          "base_uri": "https://localhost:8080/"
        }
      },
      "execution_count": 24,
      "outputs": [
        {
          "output_type": "stream",
          "name": "stdout",
          "text": [
            "[60, 70, 72, 65, 55, 43, 22.0, 90, 13.2]\n"
          ]
        }
      ]
    },
    {
      "cell_type": "markdown",
      "source": [
        "3.6 ต้องการหาผลรวมของคะแนนที่เก็บในลิสต์ x โดยขอไม่รวมคะแนนที่น้อยสุดอันดับ 2\n",
        "\n",
        "\tx = [15, 80, 75, 62, 55, 43, 99, 67, 10]\n"
      ],
      "metadata": {
        "id": "IDw88nQbWUTw"
      }
    },
    {
      "cell_type": "code",
      "source": [
        "x = [15, 80, 75, 62, 55, 43, 99, 67, 10]\n",
        "\n",
        "min1 = x[0]\n",
        "for score in x:\n",
        "    if score < min1:\n",
        "        min1 = score\n",
        "\n",
        "min2 = x[-1]\n",
        "for score in x:\n",
        "    if score > min2:\n",
        "        min2 = score\n",
        "\n",
        "for score in x:\n",
        "  if min1 < score < min2:\n",
        "    min2 = score\n",
        "\n",
        "total_sum = 0\n",
        "for score in x:\n",
        "    total_sum += score\n",
        "\n",
        "total_min = min1 + min2\n",
        "total_sum -= total_min\n",
        "\n",
        "print(total_sum)\n"
      ],
      "metadata": {
        "id": "Aool1F22WZKI",
        "outputId": "f67eb5f0-a4dc-4358-9a41-725d9b20604b",
        "colab": {
          "base_uri": "https://localhost:8080/"
        }
      },
      "execution_count": 42,
      "outputs": [
        {
          "output_type": "stream",
          "name": "stdout",
          "text": [
            "481\n"
          ]
        }
      ]
    },
    {
      "cell_type": "markdown",
      "source": [
        "3.7 จากข้อมูลใน List ให้แสดง string ที่มีความยาวมากกว่า 2 และมีอักษรตัวแรกกับตัวสุดท้ายเหมือนกัน แสดงบรรทัดละ 1 ตัว\n",
        "\n",
        "\tlst = ['abba', 'a', 'aa', 'alcaza', 'python', 'stores', 'program', 'execute']\n"
      ],
      "metadata": {
        "id": "92oZ0IQdWZkF"
      }
    },
    {
      "cell_type": "code",
      "source": [
        "lst = ['abba', 'a', 'aa', 'alcaza', 'python', 'stores', 'program', 'execute']\n",
        "\n",
        "for string in lst:\n",
        "    if len(string) > 2:\n",
        "        print(string)\n",
        "        continue\n",
        "\n",
        "        for string in lst:\n",
        "            if string[0] == string[-1]:\n",
        "                print(string)"
      ],
      "metadata": {
        "id": "i3vr0x1vWiHH",
        "outputId": "85f4b5b6-75da-43bd-a3ab-59c8146f5a71",
        "colab": {
          "base_uri": "https://localhost:8080/"
        }
      },
      "execution_count": 20,
      "outputs": [
        {
          "output_type": "stream",
          "name": "stdout",
          "text": [
            "abba\n",
            "alcaza\n",
            "python\n",
            "stores\n",
            "program\n",
            "execute\n"
          ]
        }
      ]
    },
    {
      "cell_type": "markdown",
      "source": [
        "3.8 จากข้อมูลใน List ให้ลบข้อมูลที่มีซ้ำกันให้เหลือเพียงตัวเดียว ให้แสดงผลเป็น list เช่น\n",
        "\n",
        "[‘a’,’a’] => [‘a’]\n",
        "\n",
        "lst = ['a', 'a', 'b', 'a', 'b', 'c', 'd']\n"
      ],
      "metadata": {
        "id": "QicYHZbcWi8U"
      }
    },
    {
      "cell_type": "code",
      "source": [
        "lst = ['a', 'a', 'b', 'a', 'b', 'c', 'd']\n",
        "\n",
        "list = []\n",
        "\n",
        "for item in lst:\n",
        "    if item not in list:\n",
        "        list.append(item)\n",
        "\n",
        "print(list)\n"
      ],
      "metadata": {
        "id": "saXxuMceWzd2",
        "outputId": "c286c40f-85fc-4e9a-e459-77c73252d6e7",
        "colab": {
          "base_uri": "https://localhost:8080/"
        }
      },
      "execution_count": 21,
      "outputs": [
        {
          "output_type": "stream",
          "name": "stdout",
          "text": [
            "['a', 'b', 'c', 'd']\n"
          ]
        }
      ]
    },
    {
      "cell_type": "markdown",
      "source": [
        "3.9 จากข้อมูลใน List ให้แสดงว่าแต่ละข้อมูลใน List มีจำนวนเท่าไร คือ มีซ้ำกันกี่ตัวใน List  ให้แสดงบรรทัดละตัว เช่น\n",
        "\n",
        "\t[1, 2, 3, 4, 1, 2, 3, 1, 2, 1]\n",
        "\t1 = 4\n",
        "\t2 = 3\n",
        "\t3 = 2\n",
        "\t4 = 1\n",
        "  \n",
        "\tlst = [1,2,3,4,5,1,2,3,4,1,2,3,1,2,1]"
      ],
      "metadata": {
        "id": "Dl6OEM9nWz8s"
      }
    },
    {
      "cell_type": "code",
      "source": [
        "lst = [1, 2, 3, 4, 5, 1, 2, 3, 4, 1, 2, 3, 1, 2, 1]\n",
        "\n",
        "count = {}\n",
        "order = []\n",
        "\n",
        "for num in lst:\n",
        "    if num in count:\n",
        "        count[num] += 1\n",
        "    else:\n",
        "        count[num] = 1\n",
        "        order.append(num)\n",
        "\n",
        "for num in order:\n",
        "    if count[num] > 1:\n",
        "        print(f'{num} = {count[num]}')\n"
      ],
      "metadata": {
        "id": "Dm0dAivtW7vQ",
        "outputId": "1f6b999c-2739-43b5-a5ba-243db353bb65",
        "colab": {
          "base_uri": "https://localhost:8080/"
        }
      },
      "execution_count": 19,
      "outputs": [
        {
          "output_type": "stream",
          "name": "stdout",
          "text": [
            "1 = 5\n",
            "2 = 4\n",
            "3 = 3\n",
            "4 = 2\n"
          ]
        }
      ]
    },
    {
      "cell_type": "markdown",
      "source": [
        "1.\tเขียนโปรแกรมเพื่อหาผลบวกของอนุกรม 5+10+15+20+… จนถึง n เมื่อ n เป็นตัวเลขที่รับเข้ามาทางคีย์บอร์ด"
      ],
      "metadata": {
        "id": "GgbgWOV6W8Nn"
      }
    },
    {
      "cell_type": "code",
      "source": [
        "n = int(input())\n",
        "\n",
        "if n % 5 != 0:\n",
        "    last_term = (n // 5) * 5\n",
        "else:\n",
        "    last_term = n\n",
        "\n",
        "number_of_terms = (last_term - 5) // 5 + 1\n",
        "\n",
        "sum_of_series = number_of_terms * (5 + last_term) // 2\n",
        "\n",
        "print(sum_of_series)"
      ],
      "metadata": {
        "id": "9cCHZsLhXGKm",
        "outputId": "49fadbac-a8c2-4644-f480-4aee8d6eaf2d",
        "colab": {
          "base_uri": "https://localhost:8080/"
        }
      },
      "execution_count": 18,
      "outputs": [
        {
          "output_type": "stream",
          "name": "stdout",
          "text": [
            "50\n",
            "275\n"
          ]
        }
      ]
    },
    {
      "cell_type": "markdown",
      "source": [
        "2.\tจงเขียนโปรแกรมที่จะหาตัวเลขระหว่าง 2000-3200 ที่หารด้วย 7 ลงตัว แต่หารด้วย 5 ไม่ลงตัว\n",
        "การแสดงผลให้แสดงตัวเลขและคั่นด้วยเครื่องหมาย , ในบรรทัดเดียว\n",
        "\n",
        "2002,2009,2016,2023,2037,2044,2051,2058,2072,2079,2086,2093,2107,2114,2121,2128,2142,2149,2156,2163,2177,2184,2191,2198,2212,2219,2226,2233,2247,2254,2261,2268,2282,2289,2296,2303,2317,2324,2331,2338,2352,2359,2366,2373,2387,2394,2401,2408,2422,2429,2436,2443,2457,2464,2471,2478,2492,2499,2506,2513,2527,2534,2541,2548,2562,2569,2576,2583,2597,2604,2611,2618,2632,2639,2646,2653,2667,2674,2681,2688,2702,2709,2716,2723,2737,2744,2751,2758,2772,2779,2786,2793,2807,2814,2821,2828,2842,2849,2856,2863,2877,2884,2891,2898,2912,2919,2926,2933,2947,2954,2961,2968,2982,2989,2996,3003,3017,3024,3031,3038,3052,3059,3066,3073,3087,3094,3101,3108,3122,3129,3136,3143,3157,3164,3171,3178,3192,3199,"
      ],
      "metadata": {
        "id": "aujapFNTXGsV"
      }
    },
    {
      "cell_type": "code",
      "source": [
        "nums = []\n",
        "\n",
        "for num in range(2000, 3201):\n",
        "    if num % 7 == 0 and num % 5 != 0:\n",
        "        nums.append(num)\n",
        "\n",
        "result_str = ''\n",
        "first = True\n",
        "for number in nums:\n",
        "    if not first:\n",
        "        result_str += ', '\n",
        "    result_str += str(number)\n",
        "    first = False\n",
        "\n",
        "print(result_str)"
      ],
      "metadata": {
        "id": "L-kIF3-nXJqR",
        "outputId": "02520a6f-7144-431c-de4d-9e4f01c57ff5",
        "colab": {
          "base_uri": "https://localhost:8080/"
        }
      },
      "execution_count": 17,
      "outputs": [
        {
          "output_type": "stream",
          "name": "stdout",
          "text": [
            "2002, 2009, 2016, 2023, 2037, 2044, 2051, 2058, 2072, 2079, 2086, 2093, 2107, 2114, 2121, 2128, 2142, 2149, 2156, 2163, 2177, 2184, 2191, 2198, 2212, 2219, 2226, 2233, 2247, 2254, 2261, 2268, 2282, 2289, 2296, 2303, 2317, 2324, 2331, 2338, 2352, 2359, 2366, 2373, 2387, 2394, 2401, 2408, 2422, 2429, 2436, 2443, 2457, 2464, 2471, 2478, 2492, 2499, 2506, 2513, 2527, 2534, 2541, 2548, 2562, 2569, 2576, 2583, 2597, 2604, 2611, 2618, 2632, 2639, 2646, 2653, 2667, 2674, 2681, 2688, 2702, 2709, 2716, 2723, 2737, 2744, 2751, 2758, 2772, 2779, 2786, 2793, 2807, 2814, 2821, 2828, 2842, 2849, 2856, 2863, 2877, 2884, 2891, 2898, 2912, 2919, 2926, 2933, 2947, 2954, 2961, 2968, 2982, 2989, 2996, 3003, 3017, 3024, 3031, 3038, 3052, 3059, 3066, 3073, 3087, 3094, 3101, 3108, 3122, 3129, 3136, 3143, 3157, 3164, 3171, 3178, 3192, 3199\n"
          ]
        }
      ]
    },
    {
      "cell_type": "markdown",
      "source": [
        "3.\tจากข้อมูลใน List ต้องการนับว่า มีข้อมูลกี่คู่ในลิสต์ที่ตัวทางซ้ายมีค่ามากกว่าตัวทางขวา (ไม่จำเป็นต้องอยู่ติดกัน)\n",
        "\n",
        "x = [1, 5, 4, 2, 1]"
      ],
      "metadata": {
        "id": "FCZpmtuFXKUl"
      }
    },
    {
      "cell_type": "code",
      "source": [
        "x = [-1, -5, 4, 2, 1]\n",
        "\n",
        "count = 0\n",
        "\n",
        "for i in range(len(x)):\n",
        "  for j in range(i+1,len(x)):\n",
        "    if x[i] > x[j]:\n",
        "      count += 1\n",
        "\n",
        "print(count)"
      ],
      "metadata": {
        "id": "VBgfWEXuXjQH",
        "outputId": "5c0d682e-11ba-4cd5-de9c-2e93f8774ab2",
        "colab": {
          "base_uri": "https://localhost:8080/"
        }
      },
      "execution_count": 16,
      "outputs": [
        {
          "output_type": "stream",
          "name": "stdout",
          "text": [
            "4\n"
          ]
        }
      ]
    },
    {
      "cell_type": "markdown",
      "source": [
        "4.\tให้ตรวจสอบว่า String ที่รับเข้ามาผ่านคีย์บอร์ด เป็นตัวอักษรพิมพ์เล็ก หรือตัวอักษรพิมพ์ใหญ่ อย่างละกี่ตัว ตอบ 2 บรรทัด พิมพ์เล็ก 1 บรรทัด พิมพ์ใหญ่ 1 บรรทัด\n",
        "\n",
        "klfjslkgD;FGK;LSDKdl;gfk;\n",
        "=> 13,8"
      ],
      "metadata": {
        "id": "UAEC1_jdXjya"
      }
    },
    {
      "cell_type": "code",
      "source": [
        "input_str = input()\n",
        "\n",
        "lower_count = 0\n",
        "upper_count = 0\n",
        "\n",
        "for char in input_str:\n",
        "    if char.islower():\n",
        "        lower_count += 1\n",
        "    elif char.isupper():\n",
        "        upper_count += 1\n",
        "\n",
        "print(lower_count)\n",
        "print(upper_count)"
      ],
      "metadata": {
        "id": "rSYwEhjEYY8N",
        "outputId": "f85c76ce-efa2-48c8-d35d-0e76f3966895",
        "colab": {
          "base_uri": "https://localhost:8080/"
        }
      },
      "execution_count": 15,
      "outputs": [
        {
          "output_type": "stream",
          "name": "stdout",
          "text": [
            "klfjslkgD;FGK;LSDKdl;gfk;\n",
            "13\n",
            "8\n"
          ]
        }
      ]
    },
    {
      "cell_type": "markdown",
      "source": [
        "5.\tจงเขียนโปรแกรมที่หาตัวเลขระหว่าง 1000 และ 3000 ที่ทุกหลักเป็นเลขคู่ (รวม 1000 และ 3000) โดยแสดงผลในรูปแบบตัวเลขคั่นด้วย comma\n",
        "\n",
        "2000,2002,2004,2006,2008,2020,2022,2024,2026,2028,2040,2042,2044,2046,2048,2060,2062,2064,2066,2068,2080,2082,2084,2086,2088,2200,2202,2204,2206,2208,2220,2222,2224,2226,2228,2240,2242,2244,2246,2248,2260,2262,2264,2266,2268,2280,2282,2284,2286,2288,2400,2402,2404,2406,2408,2420,2422,2424,2426,2428,2440,2442,2444,2446,2448,2460,2462,2464,2466,2468,2480,2482,2484,2486,2488,2600,2602,2604,2606,2608,2620,2622,2624,2626,2628,2640,2642,2644,2646,2648,2660,2662,2664,2666,2668,2680,2682,2684,2686,2688,2800,2802,2804,2806,2808,2820,2822,2824,2826,2828,2840,2842,2844,2846,2848,2860,2862,2864,2866,2868,2880,2882,2884,2886,2888,"
      ],
      "metadata": {
        "id": "lBtvmw_sYYX_"
      }
    },
    {
      "cell_type": "code",
      "source": [
        "ever_number = []\n",
        "\n",
        "for num in range(1000, 3001):\n",
        "    num_str = str(num)\n",
        "    is_even = True\n",
        "\n",
        "    for digit in num_str:\n",
        "        if int(digit) % 2 != 0:\n",
        "            is_even = False\n",
        "            break\n",
        "\n",
        "    if is_even:\n",
        "        ever_number.append(num)\n",
        "\n",
        "result_str = ''\n",
        "for i, number in enumerate(ever_number):\n",
        "    if i > 0:\n",
        "        result_str += ', '\n",
        "    result_str += str(number)\n",
        "\n",
        "print(result_str)\n"
      ],
      "metadata": {
        "id": "VvChTQMjYqYi",
        "outputId": "10f1d913-7c8d-4044-d86b-820834390787",
        "colab": {
          "base_uri": "https://localhost:8080/"
        }
      },
      "execution_count": 11,
      "outputs": [
        {
          "output_type": "stream",
          "name": "stdout",
          "text": [
            "2000, 2002, 2004, 2006, 2008, 2020, 2022, 2024, 2026, 2028, 2040, 2042, 2044, 2046, 2048, 2060, 2062, 2064, 2066, 2068, 2080, 2082, 2084, 2086, 2088, 2200, 2202, 2204, 2206, 2208, 2220, 2222, 2224, 2226, 2228, 2240, 2242, 2244, 2246, 2248, 2260, 2262, 2264, 2266, 2268, 2280, 2282, 2284, 2286, 2288, 2400, 2402, 2404, 2406, 2408, 2420, 2422, 2424, 2426, 2428, 2440, 2442, 2444, 2446, 2448, 2460, 2462, 2464, 2466, 2468, 2480, 2482, 2484, 2486, 2488, 2600, 2602, 2604, 2606, 2608, 2620, 2622, 2624, 2626, 2628, 2640, 2642, 2644, 2646, 2648, 2660, 2662, 2664, 2666, 2668, 2680, 2682, 2684, 2686, 2688, 2800, 2802, 2804, 2806, 2808, 2820, 2822, 2824, 2826, 2828, 2840, 2842, 2844, 2846, 2848, 2860, 2862, 2864, 2866, 2868, 2880, 2882, 2884, 2886, 2888\n"
          ]
        }
      ]
    },
    {
      "cell_type": "markdown",
      "source": [
        "6.\tในคณิตศาสตร์ ตัวหารร่วมมาก หรือ ห.ร.ม. (greatest common divisor: gcd) ของจำนวนเต็มสองจำนวนซึ่งไม่เป็นศูนย์พร้อมกัน คือจำนวนเต็มที่มากที่สุดที่หารทั้งสองจำนวนลงตัว\n",
        "จงหา ห.ร.ม. ของจำนวนเต็ม 2 จำนวนที่กำหนดให้\n",
        "ข้อมูลนำเข้า\n",
        "บรรทัดแรกเพียงบรรทัดเดียว ประกอบไปด้วยจำนวนเต็มบวกสองจำนวน a และ b มีค่าไม่เกิน 9999\n",
        "ข้อมูลส่งออก\n",
        "ในบรรทัดแรกของข้อมูลส่งออก ให้แสดงค่า ห.ร.ม. ของ a และ b\n",
        "เช่น \tInput : 12 14\t\tOutput : 2\n",
        "\tInput : 7 3\t\tOutput : 1\n",
        "\n",
        "678\n",
        "345\n",
        "=> 3"
      ],
      "metadata": {
        "id": "6TCedRC8YqyU"
      }
    },
    {
      "cell_type": "code",
      "source": [
        "string = input().strip()\n",
        "a, b = int(string.split()[0]), int(string.split()[1])\n",
        "\n",
        "while b != 0:\n",
        "    a, b = b, a % b\n",
        "\n",
        "print(a)"
      ],
      "metadata": {
        "id": "yrD4p2Q6Y6qr",
        "outputId": "f4b2f8a2-832f-42b5-b3ae-8c5975f24c45",
        "colab": {
          "base_uri": "https://localhost:8080/"
        }
      },
      "execution_count": 9,
      "outputs": [
        {
          "output_type": "stream",
          "name": "stdout",
          "text": [
            "678 345\n",
            "3\n"
          ]
        }
      ]
    },
    {
      "cell_type": "markdown",
      "source": [
        "7.\tจงเขียนโปรแกรมที่คำนวณค่าของ a+aa+aaa+aaaa เมื่อรับข้อมูลเป็นตัวเลข 1 หลัก\n",
        "\n",
        "Input : 9\n",
        "\n",
        "Output : 11106 (=9+99+999+9999)\n"
      ],
      "metadata": {
        "id": "DW9riUdiY7KK"
      }
    },
    {
      "cell_type": "code",
      "source": [
        "n = int(input(''))\n",
        "\n",
        "total = 0\n",
        "\n",
        "num = 0\n",
        "\n",
        "for i in range(1, 5):\n",
        "  if n > 0 and n < 10:\n",
        "    num = num * 10 + n\n",
        "    total += num\n",
        "  else:\n",
        "    total = 'ERROR'\n",
        "\n",
        "print(f'{total}')"
      ],
      "metadata": {
        "id": "iAZlPfC4Y-GG",
        "outputId": "3ba9cba3-8687-472f-d6d3-2182c213c162",
        "colab": {
          "base_uri": "https://localhost:8080/"
        }
      },
      "execution_count": 8,
      "outputs": [
        {
          "output_type": "stream",
          "name": "stdout",
          "text": [
            "9\n",
            "11106\n"
          ]
        }
      ]
    },
    {
      "cell_type": "markdown",
      "source": [
        "8.\tแปลงเลขโรมัน เป็นเลขอารบิก เช่น MMMDCCXXIV = 3724 (ค้นหาวิธีทางทางอินเตอร์เน็ต)\n"
      ],
      "metadata": {
        "id": "G3jPCyruZAZY"
      }
    },
    {
      "cell_type": "code",
      "source": [
        "roman = \"MMMDCCXXIV\"\n",
        "\n",
        "roman_numerals = {\n",
        "    'I': 1,\n",
        "    'V': 5,\n",
        "    'X': 10,\n",
        "    'L': 50,\n",
        "    'C': 100,\n",
        "    'D': 500,\n",
        "    'M': 1000\n",
        "}\n",
        "\n",
        "arabic_number = 0\n",
        "roman_length = len(roman)\n",
        "\n",
        "for i in range(roman_length):\n",
        "    value = roman_numerals[roman[i]]\n",
        "    if i + 1 < roman_length and roman_numerals[roman[i]] < roman_numerals[roman[i + 1]]:\n",
        "        arabic_number -= value\n",
        "    else:\n",
        "        arabic_number += value\n",
        "\n",
        "print(arabic_number)"
      ],
      "metadata": {
        "id": "6RBWGF4IZGnc",
        "outputId": "3fdd1251-4959-4142-a599-1cb84eac5c23",
        "colab": {
          "base_uri": "https://localhost:8080/"
        }
      },
      "execution_count": 4,
      "outputs": [
        {
          "output_type": "stream",
          "name": "stdout",
          "text": [
            "3724\n"
          ]
        }
      ]
    },
    {
      "cell_type": "markdown",
      "source": [
        "9.\tอนุกรม Fibonacci คือ อนุกรมที่ตัวที่ 3 เป็นต้นไปเกิดจาก 2 ตัวหน้าบวกกัน จงเขียนโปรแกรมแสดงอนุกรม\n",
        "เช่น ตั้งแต่ 0-1000 คือ 0, 1, 1, 2, 3, 5, 8, 13, 21, 34, 55, 89, 144, 233, 377, 610, 987\n"
      ],
      "metadata": {
        "id": "SJBVkaFHZHKe"
      }
    },
    {
      "cell_type": "code",
      "source": [
        "limit = 1000\n",
        "sequence = [0, 1]\n",
        "\n",
        "while True:\n",
        "    next_value = sequence[-1] + sequence[-2]\n",
        "    if next_value > limit:\n",
        "        break\n",
        "    sequence.append(next_value)\n",
        "\n",
        "for i in range(len(sequence)):\n",
        "    if i == len(sequence) - 1:\n",
        "        print(sequence[i])\n",
        "    else:\n",
        "        print(sequence[i], end=\", \")\n"
      ],
      "metadata": {
        "id": "Vdtc9KqSZLls",
        "outputId": "4ab25af3-4c93-4649-a312-d2a84e0e9e7d",
        "colab": {
          "base_uri": "https://localhost:8080/"
        }
      },
      "execution_count": 2,
      "outputs": [
        {
          "output_type": "stream",
          "name": "stdout",
          "text": [
            "0, 1, 1, 2, 3, 5, 8, 13, 21, 34, 55, 89, 144, 233, 377, 610, 987\n"
          ]
        }
      ]
    },
    {
      "cell_type": "markdown",
      "source": [
        "10.\tให้สร้างโปรแกรม True Love โดยรับชื่อภาษาอังกฤษของ 2 คน จากนั้นค้นหาว่ามีตัวอักษรอยู่ในคำว่า True และ Love รวมกันกี่ตัว จากนั้นนำมาต่อกันเป็น % ตามรูป (ไม่ต้องแสดงเครื่องหมาย %)"
      ],
      "metadata": {
        "id": "1ykDG1H4ZKd4"
      }
    },
    {
      "cell_type": "code",
      "source": [
        "name1 = input('')\n",
        "\n",
        "name2 = input('')\n",
        "\n",
        "combined_names = (name1 + name2)\n",
        "\n",
        "true = 0\n",
        "love = 0\n",
        "\n",
        "for char in \"true\":\n",
        "    true += combined_names.count(char)\n",
        "\n",
        "for char in \"love\":\n",
        "    love += combined_names.count(char)\n",
        "\n",
        "result = f\"{true}{love}\"\n",
        "\n",
        "print(\"True Love Score: \",result)"
      ],
      "metadata": {
        "id": "syOZPpj2ZPaA",
        "outputId": "93a8fe47-4051-449a-e979-e8df0bd0418a",
        "colab": {
          "base_uri": "https://localhost:8080/"
        }
      },
      "execution_count": 1,
      "outputs": [
        {
          "output_type": "stream",
          "name": "stdout",
          "text": [
            "anuwat\n",
            "saensukluea\n",
            "True Love Score:  63\n"
          ]
        }
      ]
    }
  ]
}