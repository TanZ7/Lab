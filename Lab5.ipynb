{
  "nbformat": 4,
  "nbformat_minor": 0,
  "metadata": {
    "colab": {
      "provenance": [],
      "include_colab_link": true
    },
    "kernelspec": {
      "name": "python3",
      "display_name": "Python 3"
    },
    "language_info": {
      "name": "python"
    }
  },
  "cells": [
    {
      "cell_type": "markdown",
      "metadata": {
        "id": "view-in-github",
        "colab_type": "text"
      },
      "source": [
        "<a href=\"https://colab.research.google.com/github/TanZ7/Lab/blob/main/Lab5.ipynb\" target=\"_parent\"><img src=\"https://colab.research.google.com/assets/colab-badge.svg\" alt=\"Open In Colab\"/></a>"
      ]
    },
    {
      "cell_type": "markdown",
      "source": [
        "รหัสนักศึกษา : 67015159 ชื่อ : นายอนุวัฒน์ แสนสุขเหลือ"
      ],
      "metadata": {
        "id": "ayuUhdui4PbN"
      }
    },
    {
      "cell_type": "markdown",
      "source": [
        "Exercise 5.1 ให้เขียน function ชื่อ day_of_year(day, month ,year) โดยมีการคืนค่า คือ day_of_years เป็นวันที่ลำดับที่เท่าใดของปีคริสตศักราช year\n",
        "ปีที่เป็น Leap Year เดือนกุมภาพันธ์จะมี 29 วัน\n",
        "ให้สร้างฟังก์ชัน is_leap เพื่อตรวจสอบ leap year แยกออกมา และให้ฟังก์ชัน day_of_year เรียกใช้ is_leap อีกที\n"
      ],
      "metadata": {
        "id": "ZXM4rXQB6Q9o"
      }
    },
    {
      "cell_type": "code",
      "source": [
        "days_in_month = [31, 28, 31, 30, 31, 30, 31, 31, 30, 31, 30, 31]\n",
        "\n",
        "def leap_year(year):\n",
        "  if year % 400 == 0:\n",
        "    return True\n",
        "  elif year % 100 == 0:\n",
        "    return False\n",
        "  elif year % 4 == 0:\n",
        "    return True\n",
        "  else:\n",
        "    return False\n",
        "\n",
        "def day_of_year(day, month, year):\n",
        "  if month == 1:\n",
        "    return day\n",
        "  else:\n",
        "    total_days = day\n",
        "    for i in range(1, month):\n",
        "      total_days += days_in_month[i - 1]\n",
        "    if month > 2 and leap_year(year):\n",
        "      total_days += 1\n",
        "    return total_days\n",
        "\n",
        "# Testcases\n",
        "print(\"Normal year (2023):\")\n",
        "print(f\"1 Jan 2023: {day_of_year(1, 1, 2023)}\")  # ควรได้ 1\n",
        "print(f\"1 Feb 2023: {day_of_year(1, 2, 2023)}\")  # ควรได้ 32\n",
        "print(f\"1 Mar 2023: {day_of_year(1, 3, 2023)}\")  # ควรได้ 60\n",
        "print(f\"31 Dec 2023: {day_of_year(31, 12, 2023)}\")  # ควรได้ 365\n",
        "\n",
        "print(\"\\nLeap year (2024):\")\n",
        "print(f\"1 Jan 2024: {day_of_year(1, 1, 2024)}\")  # ควรได้ 1\n",
        "print(f\"29 Feb 2024: {day_of_year(29, 2, 2024)}\")  # ควรได้ 60\n",
        "print(f\"1 Mar 2024: {day_of_year(1, 3, 2024)}\")  # ควรได้ 61\n",
        "print(f\"31 Dec 2024: {day_of_year(31, 12, 2024)}\")  # ควรได้ 366\n",
        "\n",
        "print(\"\\nCentury year, not a leap year (1900):\")\n",
        "print(f\"1 Mar 1900: {day_of_year(1, 3, 1900)}\")  # ควรได้ 60\n",
        "\n",
        "print(\"\\nCentury year, leap year (2000):\")\n",
        "print(f\"1 Mar 2000: {day_of_year(1, 3, 2000)}\")  # ควรได้ 61\n",
        "\n",
        "print(\"\\nMid-year dates:\")\n",
        "print(f\"15 Jun 2023: {day_of_year(15, 6, 2023)}\")  # ควรได้ 166\n",
        "print(f\"15 Jun 2024: {day_of_year(15, 6, 2024)}\")  # ควรได้ 167 (Leap year)\n",
        "\n",
        "print(\"\\nLast day of each quarter:\")\n",
        "print(f\"31 Mar 2023: {day_of_year(31, 3, 2023)}\")  # ควรได้ 90\n",
        "print(f\"30 Jun 2023: {day_of_year(30, 6, 2023)}\")  # ควรได้ 181\n",
        "print(f\"30 Sep 2023: {day_of_year(30, 9, 2023)}\")  # ควรได้ 273\n",
        "print(f\"31 Dec 2023: {day_of_year(31, 12, 2023)}\")  # ควรได้ 365"
      ],
      "metadata": {
        "id": "oerlrWw46aJZ",
        "colab": {
          "base_uri": "https://localhost:8080/"
        },
        "outputId": "d0327be7-1e06-425d-e3f1-1b4aa598e7dc"
      },
      "execution_count": 10,
      "outputs": [
        {
          "output_type": "stream",
          "name": "stdout",
          "text": [
            "Normal year (2023):\n",
            "1 Jan 2023: 1\n",
            "1 Feb 2023: 32\n",
            "1 Mar 2023: 60\n",
            "31 Dec 2023: 365\n",
            "\n",
            "Leap year (2024):\n",
            "1 Jan 2024: 1\n",
            "29 Feb 2024: 60\n",
            "1 Mar 2024: 61\n",
            "31 Dec 2024: 366\n",
            "\n",
            "Century year, not a leap year (1900):\n",
            "1 Mar 1900: 60\n",
            "\n",
            "Century year, leap year (2000):\n",
            "1 Mar 2000: 61\n",
            "\n",
            "Mid-year dates:\n",
            "15 Jun 2023: 166\n",
            "15 Jun 2024: 167\n",
            "\n",
            "Last day of each quarter:\n",
            "31 Mar 2023: 90\n",
            "30 Jun 2023: 181\n",
            "30 Sep 2023: 273\n",
            "31 Dec 2023: 365\n"
          ]
        }
      ]
    },
    {
      "cell_type": "markdown",
      "source": [
        "Exercise 5.2 ให้เขียนฟังก์ชัน เพิ่มเติมเป็น date_diff\n",
        "รับข้อมูลในรูปแบบ “dd-mm-yyyy” เช่น date_diff(“1-1-2018”, “1-1-2020”) จะได้ 731 วัน date_diff(“25-12-1999”, “9-3-2000”) จะได้ 76 วัน\n",
        "ให้เขียนฟังก์ชัน day_in_year โดยจะส่งค่าจำนวนวันของปี (365 หรือ 366) โดยรับข้อมูลเป็น ปี\n",
        "ส่งคืนข้อมูลเป็นจำนวนวันตั้งแต่วันที่แรก จนถึงวันที่สอง โดยรวมทั้ง 2 วันนั้นเข้าไปด้วย\n",
        "ให้สมมติว่าวันแรก จะต้องมาก่อนวันที่สองเสมอ ดังนั้นไม่ต้องตรวจสอบ\n"
      ],
      "metadata": {
        "id": "fkkuNcAcCo-z"
      }
    },
    {
      "cell_type": "code",
      "source": [
        "days_in_month = [31, 28, 31, 30, 31, 30, 31, 31, 30, 31, 30, 31]\n",
        "\n",
        "def leap_year(year):\n",
        "  if year % 400 == 0:\n",
        "    return True\n",
        "  elif year % 100 == 0:\n",
        "    return False\n",
        "  elif year % 4 == 0:\n",
        "    return True\n",
        "  else:\n",
        "    return False\n",
        "\n",
        "def is_leap(year):\n",
        "    if year % 400 == 0:\n",
        "      return True\n",
        "    elif year % 100 == 0:\n",
        "      return False\n",
        "    elif year % 4 == 0:\n",
        "      return True\n",
        "    else:\n",
        "      return False\n",
        "\n",
        "def day_of_year(day, month, year):\n",
        "    if month == 1:\n",
        "      return day\n",
        "    else:\n",
        "      total_days = day+1\n",
        "    for i in range(1, month):\n",
        "      total_days += days_in_month[i - 1]\n",
        "    if month > 2 and leap_year(year):\n",
        "      total_days += 1\n",
        "    return total_days\n",
        "\n",
        "def day_in_year(year):\n",
        "    return 366 if is_leap(year) else 365\n",
        "\n",
        "def date_diff(date1, date2):\n",
        "    day1_str, month1_str, year1_str = date1.split('-')\n",
        "    day1 = int(day1_str)\n",
        "    month1 = int(month1_str)\n",
        "    year1 = int(year1_str)\n",
        "\n",
        "    day2_str, month2_str, year2_str = date2.split('-')\n",
        "    day2 = int(day2_str)\n",
        "    month2 = int(month2_str)\n",
        "    year2 = int(year2_str)\n",
        "\n",
        "    if year1 == year2:\n",
        "      if month1 == month2:\n",
        "        return day2 - day1\n",
        "      return day_of_year(day2, month2, year2) - day_of_year(day1, month1, year1)\n",
        "    else:\n",
        "      diff = 1\n",
        "      for i in range(year1, year2):\n",
        "        diff += day_in_year(i)\n",
        "        diff += day_of_year(day2, month2, year2)\n",
        "        diff -= day_of_year(day1, month1, year1)\n",
        "      return diff\n",
        "\n",
        "# ทดสอบฟังก์ชัน\n",
        "print(date_diff(\"1-1-2018\", \"1-1-2020\"))  # ควรได้ 731\n",
        "print(date_diff(\"25-12-1999\", \"9-3-2000\"))  # ควรได้ 76\n",
        "print(date_diff(\"1-1-2000\", \"1-1-2001\"))  # ควรได้ 367 (ปี 2000 เป็น leap year)\n",
        "print(date_diff(\"1-1-2001\", \"1-1-2002\"))  # ควรได้ 366 (ปี 2001 ไม่ใช่ leap year)\n",
        "print(date_diff(\"1-3-2000\", \"1-3-2001\"))  # ควรได้ 367 (ข้ามปี leap year)\n",
        "print(date_diff(\"1-1-2023\", \"31-12-2023\"))  # ควรได้ 365 (ทั้งปี 2023)\n"
      ],
      "metadata": {
        "id": "dwNIkw0wDRjF",
        "colab": {
          "base_uri": "https://localhost:8080/"
        },
        "outputId": "d828f822-189d-49f6-a9d9-41d5eaf2dd89"
      },
      "execution_count": 9,
      "outputs": [
        {
          "output_type": "stream",
          "name": "stdout",
          "text": [
            "731\n",
            "76\n",
            "367\n",
            "366\n",
            "366\n",
            "365\n"
          ]
        }
      ]
    },
    {
      "cell_type": "markdown",
      "source": [
        "Exercise 5.3 จากโปรแกรม 5.2 ให้เขียนฟังก์ชัน date_diff  เพิ่มเติม โดยให้มีการตรวจสอบ\n",
        "วันที่ต้องเป็นวันที่ถูกต้องของเดือนนั้นๆ\n",
        "เดือนต้องอยู่ระหว่าง 1-12\n",
        "เดือนกุมภาพันธ์ของปีที่มี Leap Year เท่านั้นที่จะมี 29 วันได้\n",
        "หากข้อมูล Input ผิดพลาด ให้ Return -1\n"
      ],
      "metadata": {
        "id": "JU8jQcg4WDoF"
      }
    },
    {
      "cell_type": "code",
      "source": [
        "days_in_month = [31, 28, 31, 30, 31, 30, 31, 31, 30, 31, 30, 31]\n",
        "\n",
        "def leap_year(year):\n",
        "    if year % 400 == 0:\n",
        "        return True\n",
        "    elif year % 100 == 0:\n",
        "        return False\n",
        "    elif year % 4 == 0:\n",
        "        return True\n",
        "    else:\n",
        "        return False\n",
        "\n",
        "def day_of_year(day, month, year):\n",
        "    if day < 1 or month < 1 or month > 12:\n",
        "        return -1\n",
        "    if (month == 2 and leap_year(year) and day > 29) or (month == 2 and not leap_year(year) and day > 28) or day > days_in_month[month - 1]:\n",
        "        return -1\n",
        "\n",
        "    total_days = day\n",
        "\n",
        "    for i in range(1, month):\n",
        "        total_days += days_in_month[i - 1]\n",
        "\n",
        "    if month > 2 and leap_year(year):\n",
        "        total_days += 1\n",
        "\n",
        "    return total_days\n",
        "\n",
        "def day_in_year(year):\n",
        "    return 366 if leap_year(year) else 365\n",
        "\n",
        "def date_diff(date1, date2):\n",
        "    date1_parts = date1.split('-')\n",
        "    date2_parts = date2.split('-')\n",
        "\n",
        "    if len(date1_parts) != 3 or len(date2_parts) != 3:\n",
        "        return -1\n",
        "\n",
        "    if not (date1_parts[0].isdigit() and date1_parts[1].isdigit() and date1_parts[2].isdigit()):\n",
        "        return -1\n",
        "    if not (date2_parts[0].isdigit() and date2_parts[1].isdigit() and date2_parts[2].isdigit()):\n",
        "        return -1\n",
        "\n",
        "    day1 = int(date1_parts[0])\n",
        "    month1 = int(date1_parts[1])\n",
        "    year1 = int(date1_parts[2])\n",
        "\n",
        "    day2 = int(date2_parts[0])\n",
        "    month2 = int(date2_parts[1])\n",
        "    year2 = int(date2_parts[2])\n",
        "\n",
        "    if day1 < 1 or day2 < 1 or month1 < 1 or month1 > 12 or month2 < 1 or month2 > 12:\n",
        "        return -1\n",
        "\n",
        "    if (day1 > days_in_month[month1 - 1]) or (day2 > days_in_month[month2 - 1]):\n",
        "        if not (month1 == 2 and leap_year(year1) and day1 == 29):\n",
        "            return -1\n",
        "        if not (month2 == 2 and leap_year(year2) and day2 == 29):\n",
        "            return -1\n",
        "\n",
        "    if year1 > year2 or (year1 == year2 and month1 > month2) or (year1 == year2 and month1 == month2 and day1 > day2):\n",
        "        return -1\n",
        "\n",
        "    day1_in_year = day_of_year(day1, month1, year1)\n",
        "    day2_in_year = day_of_year(day2, month2, year2)\n",
        "\n",
        "    if day1_in_year == -1 or day2_in_year == -1:\n",
        "        return -1\n",
        "\n",
        "    if year1 == year2:\n",
        "        return day2_in_year - day1_in_year + 1  # เพิ่ม 1 วันเพื่อรวมวันสิ้นสุด\n",
        "    else:\n",
        "        diff = day_in_year(year1) - day1_in_year + day2_in_year + 1  # เพิ่ม 1 วันเพื่อรวมวันสิ้นสุด\n",
        "        for i in range(year1 + 1, year2):\n",
        "            diff += day_in_year(i)\n",
        "        return diff\n",
        "\n",
        "# ทดสอบฟังก์ชัน\n",
        "print(date_diff(\"1-1-2018\", \"1-1-2020\"))  # ควรได้ 731\n",
        "print(date_diff(\"25-12-1999\", \"9-3-2000\"))  # ควรได้ 76\n",
        "print(date_diff(\"1-1-2000\", \"1-1-2001\"))  # ควรได้ 367 (ปี 2000 เป็น leap year)\n",
        "print(date_diff(\"1-1-2001\", \"1-1-2002\"))  # ควรได้ 366 (ปี 2001 ไม่ใช่ leap year)\n",
        "print(date_diff(\"1-3-2000\", \"1-3-2001\"))  # ควรได้ 367 (ข้ามปี leap year)\n",
        "print(date_diff(\"1-1-2023\", \"31-12-2023\"))  # ควรได้ 365 (ทั้งปี 2023)\n",
        "\n",
        "# ทดสอบกรณีข้อมูลไม่ถูกต้อง\n",
        "print(date_diff(\"31-4-2023\", \"1-5-2023\"))  # ควรได้ -1 (เดือนเมษายนมี 30 วัน)\n",
        "print(date_diff(\"29-2-2023\", \"1-3-2023\"))  # ควรได้ -1 (ปี 2023 ไม่ใช่ leap year)\n",
        "print(date_diff(\"1-13-2023\", \"1-1-2024\"))  # ควรได้ -1 (เดือนไม่ถูกต้อง)\n",
        "print(date_diff(\"abc\", \"1-1-2024\"))  # ควรได้ -1 (รูปแบบวันที่ไม่ถูกต้อง)"
      ],
      "metadata": {
        "id": "OgqrXbFVWEML",
        "colab": {
          "base_uri": "https://localhost:8080/"
        },
        "outputId": "22a7687b-3b74-4151-c1d7-2b01e6c52dfb"
      },
      "execution_count": 8,
      "outputs": [
        {
          "output_type": "stream",
          "name": "stdout",
          "text": [
            "731\n",
            "76\n",
            "367\n",
            "366\n",
            "366\n",
            "365\n",
            "-1\n",
            "-1\n",
            "-1\n",
            "-1\n"
          ]
        }
      ]
    },
    {
      "cell_type": "markdown",
      "source": [
        "1.\tปลาหมอคางดำเพศเมีย 1 ตัว เมื่ออายุครบ 2 เดือน จะสามารถสืบพันธ์ได้ โดยระยะเวลาตั้งท้องจนถึง\n",
        "วางไข่ของตัวเมียจะใช้เวลา 21 วัน และฟักในปากเพศผู้อีก 7 วัน (สามารถรวมเป็น 1 เดือนได้) โดยออกไข่ครั้งละ 300 ฟอง กำหนดให้ไข่ฟักเป็นเพศผู้และเพศเมียอย่างละครึ่ง และเมื่อวางไข่แล้วจะสามารถสืบพันธ์ต่อได้ทันที กำหนดให้ปลามีอายุ 5 ปี และปลาทั้งหมดจะตาย p% ทุก 1 เดือน จงหาว่าปลาหมอคางดำหลุดจากฟาร์ม n ตัวเป็นเพศผู้และเพศเมียอย่างละครึ่ง จงเขียนโปรแกรมรับค่า n และ p ให้แสดงผลจำนวนปลาทุก 3 เดือน เป็นเวลา 10 ปี ให้เขียนเป็นฟังก์ชัน ชื่อ simulate_fish_population()\n"
      ],
      "metadata": {
        "id": "tdBCjJzeWb2c"
      }
    },
    {
      "cell_type": "code",
      "execution_count": 30,
      "metadata": {
        "id": "JmvNmVQh4C9X",
        "colab": {
          "base_uri": "https://localhost:8080/"
        },
        "outputId": "447db706-6437-49e6-d763-c39dd2ea34d4"
      },
      "outputs": [
        {
          "output_type": "stream",
          "name": "stdout",
          "text": [
            "Month 3: 300 egg + Baby Fish 270 + 245 + 515 fish\n",
            "Month 6: 300 egg + Baby Fish 270 + 463 + 733 fish\n",
            "Month 9: 300 egg + Baby Fish 270 + 660 + 930 fish\n",
            "Month 12: 300 egg + Baby Fish 270 + 837 + 1107 fish\n",
            "Month 15: 300 egg + Baby Fish 270 + 996 + 1266 fish\n",
            "Month 18: 300 egg + Baby Fish 270 + 1140 + 1410 fish\n",
            "Month 21: 300 egg + Baby Fish 270 + 1269 + 1539 fish\n",
            "Month 24: 300 egg + Baby Fish 270 + 1385 + 1655 fish\n",
            "Month 27: 300 egg + Baby Fish 270 + 1489 + 1759 fish\n",
            "Month 30: 300 egg + Baby Fish 270 + 1583 + 1853 fish\n",
            "Month 33: 300 egg + Baby Fish 270 + 1668 + 1938 fish\n",
            "Month 36: 300 egg + Baby Fish 270 + 1744 + 2014 fish\n",
            "Month 39: 300 egg + Baby Fish 270 + 1813 + 2083 fish\n",
            "Month 42: 300 egg + Baby Fish 270 + 1875 + 2145 fish\n",
            "Month 45: 300 egg + Baby Fish 270 + 1930 + 2200 fish\n",
            "Month 48: 300 egg + Baby Fish 270 + 1980 + 2250 fish\n",
            "Month 51: 300 egg + Baby Fish 270 + 2025 + 2295 fish\n",
            "Month 54: 300 egg + Baby Fish 270 + 2066 + 2336 fish\n",
            "Month 57: 300 egg + Baby Fish 270 + 2102 + 2372 fish\n",
            "Month 60: 300 egg + Baby Fish 270 + 2135 + 2405 fish\n",
            "Month 63: 300 egg + Baby Fish 270 + 2164 + 2434 fish\n",
            "Month 66: 300 egg + Baby Fish 270 + 2191 + 2461 fish\n",
            "Month 69: 300 egg + Baby Fish 270 + 2215 + 2485 fish\n",
            "Month 72: 300 egg + Baby Fish 270 + 2236 + 2506 fish\n",
            "Month 75: 300 egg + Baby Fish 270 + 2256 + 2526 fish\n",
            "Month 78: 300 egg + Baby Fish 270 + 2273 + 2543 fish\n",
            "Month 81: 300 egg + Baby Fish 270 + 2289 + 2559 fish\n",
            "Month 84: 300 egg + Baby Fish 270 + 2303 + 2573 fish\n",
            "Month 87: 300 egg + Baby Fish 270 + 2316 + 2586 fish\n",
            "Month 90: 300 egg + Baby Fish 270 + 2327 + 2597 fish\n",
            "Month 93: 300 egg + Baby Fish 270 + 2337 + 2607 fish\n",
            "Month 96: 300 egg + Baby Fish 270 + 2347 + 2617 fish\n",
            "Month 99: 300 egg + Baby Fish 270 + 2355 + 2625 fish\n",
            "Month 102: 300 egg + Baby Fish 270 + 2362 + 2632 fish\n",
            "Month 105: 300 egg + Baby Fish 270 + 2369 + 2639 fish\n",
            "Month 108: 300 egg + Baby Fish 270 + 2375 + 2645 fish\n",
            "Month 111: 300 egg + Baby Fish 270 + 2381 + 2651 fish\n",
            "Month 114: 300 egg + Baby Fish 270 + 2386 + 2656 fish\n",
            "Month 117: 300 egg + Baby Fish 270 + 2390 + 2660 fish\n",
            "Month 120: 300 egg + Baby Fish 270 + 2394 + 2664 fish\n"
          ]
        }
      ],
      "source": [
        "import math\n",
        "\n",
        "def simulate_fish_population(n, p, months=3):\n",
        "    adult_fish = n\n",
        "    hatch_rate = 300\n",
        "    baby_fish = hatch_rate - (hatch_rate * (p / 100))\n",
        "\n",
        "    for month in range(1, months + 120):\n",
        "        if month % 3 == 0:\n",
        "            new_babies = hatch_rate - (hatch_rate * (p / 100))\n",
        "            adult_fish = adult_fish * (1 - p / 100) + baby_fish * (1 - p / 100)\n",
        "            baby_fish = new_babies\n",
        "            total_fish = adult_fish + baby_fish\n",
        "\n",
        "            print(f\"Month {month}: {hatch_rate} egg + Baby Fish {round(baby_fish)} + {round(adult_fish)} + {round(total_fish)} fish\")\n",
        "\n",
        "# Run simulation\n",
        "n = 2  # Initial number of fish\n",
        "p = 10  # Monthly mortality rate 10%\n",
        "\n",
        "simulate_fish_population(n, p)\n",
        "\n",
        "# ถ้าเริ่มต้นด้วยปลา 2 ตัว ตายเดือนละ 10%\n",
        "# เดือนที่ 1 ไข่ 300 ไบ\n",
        "# เดือนที่ 2 ไข่ 300 ใบ + ลูกปลา 270 ตัว\n",
        "# เดือนที่ 3 ไข่ 300 ใบ + ลูกปลา 270 ตัว + ปลาโตเต็มวัย 243 ตัว + 2 = 515 ตัว\n"
      ]
    },
    {
      "cell_type": "markdown",
      "source": [
        "2.\tให้เขียน function find_mismatch ซึ่งรับ string มา 2 ค่า โดยจะส่งค่ากลับดังนี้\n",
        "- 0 เมื่อ string ทั้ง 2 ตัว เหมือนกัน โดยไม่สนใจ case\n",
        "- 1 เมื่อ string 1 จะเหมือน string 2 โดยการลบและ/หรือเพิ่มตัวอักษรเพียง 1 ตัว\n",
        "- 2 เมื่อ string ไม่เข้าเกณฑ์ 0 หรือ 1\n",
        "\n",
        "\n",
        "| String  1| \tString2\t|ผลลัพธ์|\n",
        "|----------|----------|------|\n",
        "|Python|\tJava\t|2|\n",
        "|book\t |  boot\t|1|\n",
        "|fan\t |  fun\t  |1|\n",
        "|sin\t | sink\t  |1 เพราะเพิ่ม k ใน str2 แล้วจะเหมือนกัน\n",
        "|Dog\t | dog\t  |0\n",
        "|poke\t | spoke\t|1 เพิ่ม s ใน str2 แล้วเหมือนกัน\n",
        "|poker |\tpoke\t|1 ตัด r ใน str1 ออกแล้วเหมือนกัน\n",
        "\n",
        "\n",
        "\n",
        "\n"
      ],
      "metadata": {
        "id": "F0_ZEPOYbDKf"
      }
    },
    {
      "cell_type": "code",
      "source": [
        "def find_mismatch(str1, str2):\n",
        "    def is_one_edit_away(s1, s2):\n",
        "        len1, len2 = len(s1), len(s2)\n",
        "\n",
        "        if abs(len1 - len2) > 1:\n",
        "            return False\n",
        "\n",
        "        i, j = 0, 0\n",
        "        found_difference = False\n",
        "\n",
        "        while i < len1 and j < len2:\n",
        "            if s1[i] != s2[j]:\n",
        "                if found_difference:\n",
        "                    return False\n",
        "\n",
        "                found_difference = True\n",
        "\n",
        "                if len1 > len2:\n",
        "                    i += 1\n",
        "                elif len1 < len2:\n",
        "                    j += 1\n",
        "                else:\n",
        "                    i += 1\n",
        "                    j += 1\n",
        "            else:\n",
        "                i += 1\n",
        "                j += 1\n",
        "\n",
        "        return True\n",
        "\n",
        "    str1, str2 = str1.lower(), str2.lower()\n",
        "\n",
        "    if str1 == str2:\n",
        "        return 0\n",
        "\n",
        "    if is_one_edit_away(str1, str2):\n",
        "        return 1\n",
        "\n",
        "    return 2\n",
        "\n",
        "word1 = input('Word1: ')\n",
        "word2 = input('Word2: ')\n",
        "\n",
        "print(find_mismatch(word1,word2))\n"
      ],
      "metadata": {
        "id": "jyVxAb-MXnz2",
        "colab": {
          "base_uri": "https://localhost:8080/"
        },
        "outputId": "4972d1dc-f4bc-4356-cc2b-c862eddedcfd"
      },
      "execution_count": 7,
      "outputs": [
        {
          "output_type": "stream",
          "name": "stdout",
          "text": [
            "Word1: Dog\n",
            "Word2: dog\n",
            "0\n"
          ]
        }
      ]
    },
    {
      "cell_type": "markdown",
      "source": [
        "3.\tจากข้อ 1 ให้เขียนฟังก์ชันชื่อ spelling_correction โดยรับ 2 argument ตัวแรกเป็นประโยค (string) และตัวที่ 2 เป็น list ของคำ (correct_spells) โดยฟังก์ชันนี้มีหน้าที่ตรวจสอบแต่ละ word ใน input string กับคำที่อยู่ใน correct_spells โดยค่าที่คืนกลับมาจะมีดังนี้ (พยายามเรียกใช้ฟังก์ชันในข้อ 1)\n",
        "-\tถ้าคำที่อยู่ในประโยค ตรงกับคำที่อยู่ใน correct_spells ทุกอย่าง ก็จะ copy ไปที่ output string\n",
        "-\tถ้าคำที่อยู่ในประโยค ต่างจากคำที่อยู่ใน correct_spells โดยต่างกัน 1 ตัวอักษร โดยการเปลี่ยน การเพิ่ม หรือการลบ 1 ตัวอักษร คำที่อยู่ในประโยคจะถูกเปลี่ยนโดยคำที่อยู่ใน correct_spells และนำไปใส่ output string\n",
        "-\tถ้าคำที่ไม่พบในเงื่อนไขข้างต้นให้นำคำนั้นไปใส่ output string ได้เลย\n",
        "-\tคำที่ประกอบด้วย 1 หรือ 2 ตัวอักษรจะไม่ตรวจสอบ ให้นำคำนั้นไปใส่ output string ได้เลย\n",
        "-\tถ้ามี 2 คำใน correct_spells ที่ตรงตามเงื่อนไข ให้ใช้คำแรก\n",
        "-\tไม่สนใจตัวใหญ่ ตัวเล็ก\n",
        "-\tInput string จะมีได้เพียงอักษรภาษาอังกฤษเท่านั้น\n",
        "-\tในแต่ละคำจะคั่นด้วย 1 space ถ้ามี space มากกว่านั้นให้ตัดออก และตัด space จากหัวท้ายประโยค\n",
        "\n",
        "|ประโยค\t|correct_spells\t|output string |\n",
        "|-------|---------------|-------------|\n",
        "|Thes is the Firs cas\t|[‘that’,’first’,’case’,’car’]|\tthes is the first car|\n",
        "|programming is fan and easy\t|[‘programming’,’this’,’fun’,’easy’,book’]\t|programming is fun and easy|\n",
        "|Thes is vary essy\t|[‘this’,’is’,’very’,’easy’]\t|this is very easy|\n",
        "|Wee ipve Pythen\t|[‘we’,’live’,’ln’,’Python’]\t|we live python|\n",
        "\n",
        "\n"
      ],
      "metadata": {
        "id": "jzXp83HSbMh9"
      }
    },
    {
      "cell_type": "code",
      "source": [
        "def find_mismatch(s1, s2):\n",
        "    def is_one_edit_away(str1, str2):\n",
        "        len1, len2 = len(str1), len(str2)\n",
        "\n",
        "        if abs(len1 - len2) > 1:\n",
        "            return False\n",
        "\n",
        "        i, j = 0, 0\n",
        "        found_difference = False\n",
        "\n",
        "        while i < len1 and j < len2:\n",
        "            if str1[i] != str2[j]:\n",
        "                if found_difference:\n",
        "                    return False\n",
        "\n",
        "                found_difference = True\n",
        "\n",
        "                if len1 > len2:\n",
        "                    i += 1\n",
        "                elif len1 < len2:\n",
        "                    j += 1\n",
        "                else:\n",
        "                    i += 1\n",
        "                    j += 1\n",
        "            else:\n",
        "                i += 1\n",
        "                j += 1\n",
        "\n",
        "        return True\n",
        "\n",
        "    s1, s2 = s1.lower(), s2.lower()\n",
        "\n",
        "    if s1 == s2:\n",
        "        return 0\n",
        "\n",
        "    if is_one_edit_away(s1, s2):\n",
        "        return 1\n",
        "\n",
        "    return 2\n",
        "\n",
        "def spelling_correction(sentence, correct_spells):\n",
        "    words = sentence.strip().split()\n",
        "    corrected_words = []\n",
        "\n",
        "    for word in words:\n",
        "        if len(word) <= 2:\n",
        "            corrected_words.append(word)\n",
        "            continue\n",
        "\n",
        "        found_correction = False\n",
        "\n",
        "        for correct_word in correct_spells:\n",
        "            if find_mismatch(word, correct_word) == 0:\n",
        "                corrected_words.append(correct_word)\n",
        "                found_correction = True\n",
        "                break\n",
        "            elif find_mismatch(word, correct_word) == 1:\n",
        "                corrected_words.append(correct_word)\n",
        "                found_correction = True\n",
        "                break\n",
        "\n",
        "        if not found_correction:\n",
        "            corrected_words.append(word)\n",
        "\n",
        "    return \" \".join(corrected_words)\n",
        "\n",
        "sentence = \"Thes is the Firs cas\"\n",
        "correct_spells = \t['that','first','case','car']\n",
        "print(spelling_correction(sentence, correct_spells))\n"
      ],
      "metadata": {
        "id": "4NW0Y1hXpfCt",
        "colab": {
          "base_uri": "https://localhost:8080/"
        },
        "outputId": "a74d8cd3-4c5e-4c01-93d0-a051c7503b9b"
      },
      "execution_count": 29,
      "outputs": [
        {
          "output_type": "stream",
          "name": "stdout",
          "text": [
            "Thes is the first case\n"
          ]
        }
      ]
    },
    {
      "cell_type": "markdown",
      "source": [
        "4. ให้เขียนฟังก์ชัน find_word_horizontal ซึ่งจะรับ list ขนาด 2 มิติ ของตัวอักษร (คล้ายกับเกม cross word) และ word ซึ่งเป็น string เป็น argument โดยฟังก์ชันนี้ จะค้นหาตามแถวของ list เพื่อหาตำแหน่งที่มีอักษรตรงกับคำใน word ถ้าพบ จะส่งคืน row index และ column index ของตัวอักษรแรก ถ้าไม่พบจะส่งคืน None\n",
        "\n",
        "```\n",
        "crosswords=[['s','d','o','g'],\n",
        "            ['c','u','c','m'],\n",
        "            ['a','c','a','t'],\n",
        "            ['t',' e','t','k']]\n",
        "\tword='cat'\n",
        "\tfind_word_horizontal(crosswords,word)\n",
        "```\n",
        "\n",
        "Output\n",
        "   [2,1]\n"
      ],
      "metadata": {
        "id": "sshYZJYZpfua"
      }
    },
    {
      "cell_type": "code",
      "source": [
        "def find_word_horizontal(crosswords, word):\n",
        "    num_rows = len(crosswords)\n",
        "    num_cols = len(crosswords[0])\n",
        "\n",
        "    word_len = len(word)\n",
        "\n",
        "    for row in range(num_rows):\n",
        "        for col in range(num_cols - word_len + 1):\n",
        "            match = True\n",
        "            for i in range(word_len):\n",
        "                if crosswords[row][col + i] != word[i]:\n",
        "                    match = False\n",
        "                    break\n",
        "            if match:\n",
        "                return [row, col]\n",
        "\n",
        "    return None\n",
        "\n",
        "crosswords = [\n",
        "    ['s', 'd', 'o', 'g'],\n",
        "    ['c', 'u', 'c', 'm'],\n",
        "    ['a', 'c', 'a', 't'],\n",
        "    ['t', 'e', 't', 'k']\n",
        "]\n",
        "word = 'cat'\n",
        "print(find_word_horizontal(crosswords, word))"
      ],
      "metadata": {
        "id": "2z0nonPMqZ_Q",
        "colab": {
          "base_uri": "https://localhost:8080/"
        },
        "outputId": "ade8b660-8975-487b-e6f9-067111bb70d1"
      },
      "execution_count": 1,
      "outputs": [
        {
          "output_type": "stream",
          "name": "stdout",
          "text": [
            "[2, 1]\n"
          ]
        }
      ]
    },
    {
      "cell_type": "markdown",
      "source": [
        "5. ให้เขียนฟังก์ชัน find_word_vertical ซึ่งจะรับ list ขนาด 2 มิติ ของตัวอักษร (คล้ายกับเกม cross word) และ word ซึ่งเป็น string เป็น argument โดยฟังก์ชันนี้ จะค้นหาตามคอลัมน์ของ list เพื่อหาตำแหน่งที่มีอักษรตรงกับคำใน word ถ้าพบ จะส่งคืน row index และ column index ของตัวอักษรแรก ถ้าไม่พบจะส่งคืน None\n",
        "\n",
        "ตัวอย่าง\n",
        "```\n",
        "\tcrosswords=[['s','d','o','g'],\n",
        "              ['c','u','c','m'],\n",
        "              ['a','c','a','t'],\n",
        "              ['t',' e','t','k']]\n",
        "\tword='cat'\n",
        "\tfind_word_vertical(crosswords,word)\n",
        "```\n",
        "\n",
        "Output\n",
        "   [1,0]\n"
      ],
      "metadata": {
        "id": "sDhGHMPsqr6a"
      }
    },
    {
      "cell_type": "code",
      "source": [
        "def find_word_vertical(crosswords, word):\n",
        "    num_rows = len(crosswords)\n",
        "    num_cols = len(crosswords[0])\n",
        "\n",
        "    word_len = len(word)\n",
        "\n",
        "    for col in range(num_cols):\n",
        "        for row in range(num_rows - word_len + 1):\n",
        "            match = True\n",
        "            for i in range(word_len):\n",
        "                if crosswords[row + i][col] != word[i]:\n",
        "                    match = False\n",
        "                    break\n",
        "            if match:\n",
        "                return [row, col]\n",
        "\n",
        "    return None\n",
        "\n",
        "crosswords = [\n",
        "    ['s', 'd', 'o', 'g'],\n",
        "    ['c', 'u', 'c', 'm'],\n",
        "    ['a', 'c', 'a', 't'],\n",
        "    ['t', 'e', 't', 'k']\n",
        "]\n",
        "word = 'cat'\n",
        "print(find_word_vertical(crosswords, word))\n"
      ],
      "metadata": {
        "id": "R5Jp1CkQrEz9",
        "colab": {
          "base_uri": "https://localhost:8080/"
        },
        "outputId": "2de82467-0530-43aa-8272-2db4ac1895a3"
      },
      "execution_count": 2,
      "outputs": [
        {
          "output_type": "stream",
          "name": "stdout",
          "text": [
            "[1, 0]\n"
          ]
        }
      ]
    },
    {
      "cell_type": "markdown",
      "source": [
        "6.\tให้เขียนฟังก์ชัน capitalize_word_in_crossword จะรับ list ขนาด 2 มิติ ของตัวอักษร (คล้ายกับเกม cross word) และ word ซึ่งเป็น string เป็น argument โดยฟังก์ชันนี้ จะค้นหาตาม row และ column ของ list เพื่อหาตำแหน่งที่มีอักษรตรงกับคำใน word ถ้าพบจะเปลี่ยนเป็นตัวใหญ่และ และส่งคืน list ที่แก้ไขแล้ว แต่ถ้าไม่เจอจะส่ง list เดิมกลับมา ให้ใช้ฟังก์ชันตามข้อ 3 และ 4 ช่วย\n",
        "\n",
        "```\n",
        "crosswords=[['s','d','o','g'],\n",
        "            ['c','u','c','m'],\n",
        "            ['a','x','a','t'],\n",
        "            ['t','e','t','k']]\n",
        "word='cat'\n",
        "capitalize_word_in_crossword(crosswords,word)\n",
        "```\n",
        "จะส่งค่ากลับ\n",
        "```\n",
        " [['s','d','o','g'],\n",
        "  ['C','u','c','m'],\n",
        "  ['A','x','a','t'],\n",
        "  ['T','e','t','k']]\n",
        "```\n",
        "```\n",
        "crosswords=[['s','d','o','g'],\n",
        "            ['c','u','c','m'],\n",
        "            ['a','c','a','t'],\n",
        "            ['t','e','t','k']]\n",
        "word='cat'\n",
        "capitalize_word_in_crossword(crosswords,word)\n",
        "จะส่งค่ากลับ                   \n",
        "[['s','d','o','g'],\n",
        " ['c','u','c','m'],\n",
        " ['a','C','A','T'],\n",
        " ['t','e','t','k']]\n",
        "```\n",
        "\n",
        "\n"
      ],
      "metadata": {
        "id": "dinoUBQTrDFp"
      }
    },
    {
      "cell_type": "code",
      "source": [
        "def capitalize_word_in_crossword(crosswords, word):\n",
        "    position = find_word_horizontal(crosswords, word)\n",
        "\n",
        "    if position is not None:\n",
        "        row, col = position\n",
        "        for i in range(len(word)):\n",
        "            crosswords[row][col + i] = crosswords[row][col + i].upper()\n",
        "        return crosswords\n",
        "\n",
        "    position = find_word_vertical(crosswords, word)\n",
        "\n",
        "    if position is not None:\n",
        "        row, col = position\n",
        "        for i in range(len(word)):\n",
        "            crosswords[row + i][col] = crosswords[row + i][col].upper()\n",
        "        return crosswords\n",
        "\n",
        "    return crosswords\n",
        "\n",
        "crosswords = [\n",
        "    ['s', 'd', 'o', 'g'],\n",
        "    ['c', 'u', 'c', 'm'],\n",
        "    ['a', 'c', 'a', 't'],\n",
        "    ['t', 'e', 't', 'k']\n",
        "]\n",
        "word = 'cat'\n",
        "result = capitalize_word_in_crossword(crosswords, word)\n",
        "for row in result:\n",
        "    print(row)\n"
      ],
      "metadata": {
        "id": "IM99mZNs0css",
        "colab": {
          "base_uri": "https://localhost:8080/"
        },
        "outputId": "89aed4b5-dc6a-4302-9a01-75d2c747f2b5"
      },
      "execution_count": 4,
      "outputs": [
        {
          "output_type": "stream",
          "name": "stdout",
          "text": [
            "['s', 'd', 'o', 'g']\n",
            "['c', 'u', 'c', 'm']\n",
            "['a', 'C', 'A', 'T']\n",
            "['t', 'e', 't', 'k']\n"
          ]
        }
      ]
    }
  ]
}